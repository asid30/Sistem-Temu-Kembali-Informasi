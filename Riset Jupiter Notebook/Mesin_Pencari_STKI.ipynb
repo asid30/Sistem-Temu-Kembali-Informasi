{
  "cells": [
    {
      "cell_type": "code",
      "execution_count": 17,
      "metadata": {
        "id": "NpsHL0RECzmH"
      },
      "outputs": [],
      "source": [
        "import pandas as pd\n",
        "import numpy as np\n",
        "from sklearn.feature_extraction.text import TfidfVectorizer\n",
        "from sklearn.metrics.pairwise import cosine_similarity\n",
        "from sklearn.decomposition import TruncatedSVD\n",
        "from Sastrawi.StopWordRemover.StopWordRemoverFactory import StopWordRemoverFactory\n",
        "from Sastrawi.Stemmer.StemmerFactory import StemmerFactory\n",
        "import nltk\n",
        "from nltk.tokenize import RegexpTokenizer"
      ]
    },
    {
      "cell_type": "code",
      "execution_count": 2,
      "metadata": {
        "id": "9wACa7AtHSoz"
      },
      "outputs": [],
      "source": [
        "df_all = pd.read_excel(r'D:\\TEST Codingan\\Sistem-Temu-Kembali-Informasi\\Riset Jupiter Notebook\\Data\\df_final.xlsx').head(1000)"
      ]
    },
    {
      "cell_type": "markdown",
      "metadata": {
        "id": "tzjNW0YGKJ9T"
      },
      "source": [
        "# EDA"
      ]
    },
    {
      "cell_type": "code",
      "execution_count": 3,
      "metadata": {
        "id": "JDpgOXslE1AG"
      },
      "outputs": [],
      "source": [
        "df_all = df_all.drop(columns = ['Unnamed: 0'])"
      ]
    },
    {
      "cell_type": "code",
      "execution_count": 4,
      "metadata": {
        "colab": {
          "base_uri": "https://localhost:8080/"
        },
        "id": "vzzr3t74FX6E",
        "outputId": "9147e135-622d-44c1-f67b-3679ecaeb48b"
      },
      "outputs": [
        {
          "name": "stdout",
          "output_type": "stream",
          "text": [
            "<class 'pandas.core.frame.DataFrame'>\n",
            "RangeIndex: 1000 entries, 0 to 999\n",
            "Data columns (total 17 columns):\n",
            " #   Column             Non-Null Count  Dtype \n",
            "---  ------             --------------  ----- \n",
            " 0   divisions          917 non-null    object\n",
            " 1   title              1000 non-null   object\n",
            " 2   abstract           758 non-null    object\n",
            " 3   subjects           1000 non-null   object\n",
            " 4   publication        498 non-null    object\n",
            " 5   publisher          863 non-null    object\n",
            " 6   creators           999 non-null    object\n",
            " 7   date               1000 non-null   object\n",
            " 8   keywords           181 non-null    object\n",
            " 9   uri                1000 non-null   object\n",
            " 10  new_abstract       758 non-null    object\n",
            " 11  text_raw           1000 non-null   object\n",
            " 12  language           1000 non-null   object\n",
            " 13  language_accuracy  1000 non-null   object\n",
            " 14  fulltext           1000 non-null   object\n",
            " 15  fulltext_stopword  1000 non-null   object\n",
            " 16  text_stemmed       1000 non-null   object\n",
            "dtypes: object(17)\n",
            "memory usage: 132.9+ KB\n"
          ]
        }
      ],
      "source": [
        "df_all.info()"
      ]
    },
    {
      "cell_type": "code",
      "execution_count": 5,
      "metadata": {
        "colab": {
          "base_uri": "https://localhost:8080/",
          "height": 3773
        },
        "id": "T1H5fw2J9HqS",
        "outputId": "9a5cbd8b-a04f-410a-cfaf-e4384edfd46c"
      },
      "outputs": [
        {
          "data": {
            "text/html": [
              "<div>\n",
              "<style scoped>\n",
              "    .dataframe tbody tr th:only-of-type {\n",
              "        vertical-align: middle;\n",
              "    }\n",
              "\n",
              "    .dataframe tbody tr th {\n",
              "        vertical-align: top;\n",
              "    }\n",
              "\n",
              "    .dataframe thead th {\n",
              "        text-align: right;\n",
              "    }\n",
              "</style>\n",
              "<table border=\"1\" class=\"dataframe\">\n",
              "  <thead>\n",
              "    <tr style=\"text-align: right;\">\n",
              "      <th></th>\n",
              "      <th>title</th>\n",
              "      <th>abstract</th>\n",
              "    </tr>\n",
              "  </thead>\n",
              "  <tbody>\n",
              "    <tr>\n",
              "      <th>0</th>\n",
              "      <td>TOKSISITAS METIL METSULFURON HUBUNGANNYA DENGA...</td>\n",
              "      <td>Metil metsulfuron merupakan senyawa aktif yang...</td>\n",
              "    </tr>\n",
              "    <tr>\n",
              "      <th>1</th>\n",
              "      <td>Media Pembelajaran Digital sebagai Sumber Bela...</td>\n",
              "      <td>Kegiatan pembelajaran siswa SMA dan SMK mutlak...</td>\n",
              "    </tr>\n",
              "    <tr>\n",
              "      <th>2</th>\n",
              "      <td>Strategi Keberlanjutan Jasa Air Bersih Berbasi...</td>\n",
              "      <td>Persoalan penyediaan jasa air bersih merupakan...</td>\n",
              "    </tr>\n",
              "    <tr>\n",
              "      <th>3</th>\n",
              "      <td>Metode Sexing Spermatozoa XY dan Aplikasi Inse...</td>\n",
              "      <td>NaN</td>\n",
              "    </tr>\n",
              "    <tr>\n",
              "      <th>4</th>\n",
              "      <td>PENGARUH BAHAN PELLETING TERHADAP PERKECAMBAHA...</td>\n",
              "      <td>Bawang merah merupakan komoditas pertanian pen...</td>\n",
              "    </tr>\n",
              "    <tr>\n",
              "      <th>...</th>\n",
              "      <td>...</td>\n",
              "      <td>...</td>\n",
              "    </tr>\n",
              "    <tr>\n",
              "      <th>995</th>\n",
              "      <td>Analisis Kelayakan Finansial Usaha Burung Puyu...</td>\n",
              "      <td>Unggas penghasil telur terbesar kedua setelah ...</td>\n",
              "    </tr>\n",
              "    <tr>\n",
              "      <th>996</th>\n",
              "      <td>Buku Teknologi Pengelolaan Agen Biologis Hara</td>\n",
              "      <td>NaN</td>\n",
              "    </tr>\n",
              "    <tr>\n",
              "      <th>997</th>\n",
              "      <td>Teknologi Pengelolaan Agen Biologis Hara (TPABH)</td>\n",
              "      <td>NaN</td>\n",
              "    </tr>\n",
              "    <tr>\n",
              "      <th>998</th>\n",
              "      <td>PENGARUH KECERDASAN EMOSIONAL DAN KEMAMPUAN AW...</td>\n",
              "      <td>Pembelajaran online menyisakan banyak permasal...</td>\n",
              "    </tr>\n",
              "    <tr>\n",
              "      <th>999</th>\n",
              "      <td>Pelatihan Pembelajaran Matematika Interaktif d...</td>\n",
              "      <td>Kebijakan Pembelajaran Tatap Muka (PTM) terbat...</td>\n",
              "    </tr>\n",
              "  </tbody>\n",
              "</table>\n",
              "<p>1000 rows × 2 columns</p>\n",
              "</div>"
            ],
            "text/plain": [
              "                                                 title  \\\n",
              "0    TOKSISITAS METIL METSULFURON HUBUNGANNYA DENGA...   \n",
              "1    Media Pembelajaran Digital sebagai Sumber Bela...   \n",
              "2    Strategi Keberlanjutan Jasa Air Bersih Berbasi...   \n",
              "3    Metode Sexing Spermatozoa XY dan Aplikasi Inse...   \n",
              "4    PENGARUH BAHAN PELLETING TERHADAP PERKECAMBAHA...   \n",
              "..                                                 ...   \n",
              "995  Analisis Kelayakan Finansial Usaha Burung Puyu...   \n",
              "996      Buku Teknologi Pengelolaan Agen Biologis Hara   \n",
              "997   Teknologi Pengelolaan Agen Biologis Hara (TPABH)   \n",
              "998  PENGARUH KECERDASAN EMOSIONAL DAN KEMAMPUAN AW...   \n",
              "999  Pelatihan Pembelajaran Matematika Interaktif d...   \n",
              "\n",
              "                                              abstract  \n",
              "0    Metil metsulfuron merupakan senyawa aktif yang...  \n",
              "1    Kegiatan pembelajaran siswa SMA dan SMK mutlak...  \n",
              "2    Persoalan penyediaan jasa air bersih merupakan...  \n",
              "3                                                  NaN  \n",
              "4    Bawang merah merupakan komoditas pertanian pen...  \n",
              "..                                                 ...  \n",
              "995  Unggas penghasil telur terbesar kedua setelah ...  \n",
              "996                                                NaN  \n",
              "997                                                NaN  \n",
              "998  Pembelajaran online menyisakan banyak permasal...  \n",
              "999  Kebijakan Pembelajaran Tatap Muka (PTM) terbat...  \n",
              "\n",
              "[1000 rows x 2 columns]"
            ]
          },
          "execution_count": 5,
          "metadata": {},
          "output_type": "execute_result"
        }
      ],
      "source": [
        "pd.DataFrame(df_all[['title', 'abstract']])"
      ]
    },
    {
      "cell_type": "code",
      "execution_count": null,
      "metadata": {
        "id": "X8-_6fEsGE5q"
      },
      "outputs": [],
      "source": [
        "topik_riset = {'phew'}\n",
        "\n",
        "for i in range(len(df_all['fokus_riset'])):\n",
        "  topik_riset.add(df_all['fokus_riset'].iloc[i])"
      ]
    },
    {
      "cell_type": "code",
      "execution_count": null,
      "metadata": {
        "colab": {
          "base_uri": "https://localhost:8080/"
        },
        "id": "wTmy8gXuGF9g",
        "outputId": "fb262f7d-801b-4c40-ad06-440413585279"
      },
      "outputs": [
        {
          "data": {
            "text/plain": [
              "{'Integrasi Fokus Riset Energi-Energi Baru dan Terbarukan',\n",
              " 'Kebencanaan',\n",
              " 'Kemaritiman',\n",
              " 'Kesehatan-Obat',\n",
              " 'Material Maju',\n",
              " 'Pangan-Pertanian',\n",
              " 'Pertahanan dan Keamanan',\n",
              " 'Sosial Humaniora, Seni Budaya, Pendidikan',\n",
              " 'Teknologi Informasi dan Komunikasi',\n",
              " 'Transportasi',\n",
              " nan,\n",
              " 'phew'}"
            ]
          },
          "execution_count": 4,
          "metadata": {},
          "output_type": "execute_result"
        }
      ],
      "source": [
        "topik_riset"
      ]
    },
    {
      "cell_type": "code",
      "execution_count": null,
      "metadata": {
        "id": "KwIGH6T5FmDV"
      },
      "outputs": [],
      "source": [
        "temporal = []\n",
        "\n",
        "for i in range(len(df_all['fokus_riset'])):\n",
        "  if df_all['fokus_riset'].iloc[i] == 'Kesehatan-Obat':\n",
        "    temporal.append(df_all.iloc[i])"
      ]
    },
    {
      "cell_type": "code",
      "execution_count": null,
      "metadata": {
        "id": "L40bsksBF1Hk"
      },
      "outputs": [],
      "source": [
        "temporal = []\n",
        "\n",
        "for i in range(len(df_all['fokus_riset'])):\n",
        "  if pd.isnull(df_all['fokus_riset'].iloc[i]):\n",
        "    temporal.append(df_all.iloc[i])"
      ]
    },
    {
      "cell_type": "code",
      "execution_count": null,
      "metadata": {
        "colab": {
          "base_uri": "https://localhost:8080/"
        },
        "id": "mHJQRts8F2m1",
        "outputId": "01c93ed2-c2f5-47c7-f6af-2ddb206d6598"
      },
      "outputs": [
        {
          "data": {
            "text/plain": [
              "1240"
            ]
          },
          "execution_count": 36,
          "metadata": {},
          "output_type": "execute_result"
        }
      ],
      "source": [
        "len(temporal)"
      ]
    },
    {
      "cell_type": "code",
      "execution_count": null,
      "metadata": {
        "colab": {
          "base_uri": "https://localhost:8080/",
          "height": 199
        },
        "id": "tnx2-s6wF5io",
        "outputId": "de5adeb9-d236-4457-afa2-ff860672c899"
      },
      "outputs": [],
      "source": [
        "df_temp = pd.DataFrame(temporal)\n",
        "df_temp[['title', 'fokus_riset']]"
      ]
    },
    {
      "cell_type": "code",
      "execution_count": null,
      "metadata": {
        "id": "hJZJfGbqGZee"
      },
      "outputs": [],
      "source": [
        "df_all['fokus_riset'].iloc[3921] = 'Kesehatan-Obat'\n",
        "df_all['fokus_riset'].iloc[3926] = 'Sosial Humaniora, Seni Budaya, Pendidikan'"
      ]
    },
    {
      "cell_type": "markdown",
      "metadata": {
        "id": "rUZZFqetJELt"
      },
      "source": [
        "# Mesin Pencari"
      ]
    },
    {
      "cell_type": "code",
      "execution_count": 7,
      "metadata": {
        "colab": {
          "base_uri": "https://localhost:8080/"
        },
        "id": "mSJWSLCZI5pi",
        "outputId": "3da2f13f-ee43-4b4e-90be-a260e6ae02b1"
      },
      "outputs": [
        {
          "name": "stdout",
          "output_type": "stream",
          "text": [
            "<class 'pandas.core.frame.DataFrame'>\n",
            "RangeIndex: 1000 entries, 0 to 999\n",
            "Data columns (total 17 columns):\n",
            " #   Column             Non-Null Count  Dtype \n",
            "---  ------             --------------  ----- \n",
            " 0   divisions          917 non-null    object\n",
            " 1   title              1000 non-null   object\n",
            " 2   abstract           758 non-null    object\n",
            " 3   subjects           1000 non-null   object\n",
            " 4   publication        498 non-null    object\n",
            " 5   publisher          863 non-null    object\n",
            " 6   creators           999 non-null    object\n",
            " 7   date               1000 non-null   object\n",
            " 8   keywords           181 non-null    object\n",
            " 9   uri                1000 non-null   object\n",
            " 10  new_abstract       758 non-null    object\n",
            " 11  text_raw           1000 non-null   object\n",
            " 12  language           1000 non-null   object\n",
            " 13  language_accuracy  1000 non-null   object\n",
            " 14  fulltext           1000 non-null   object\n",
            " 15  fulltext_stopword  1000 non-null   object\n",
            " 16  text_stemmed       1000 non-null   object\n",
            "dtypes: object(17)\n",
            "memory usage: 132.9+ KB\n"
          ]
        }
      ],
      "source": [
        "df_all.info()"
      ]
    },
    {
      "cell_type": "code",
      "execution_count": 8,
      "metadata": {
        "colab": {
          "base_uri": "https://localhost:8080/",
          "height": 35
        },
        "id": "eOHUGjj2DzBE",
        "outputId": "a18a6a51-f37d-498a-ffb1-c08c9ee05c70"
      },
      "outputs": [
        {
          "data": {
            "text/plain": [
              "'PENGENALAN BUNGA KRISAN POTONG DI DESA SUNGAI \\nLANGKA KAB. PESAWARAN SEBAGAI KOMODITAS BARU DI \\nDESA AGROWISATA'"
            ]
          },
          "execution_count": 8,
          "metadata": {},
          "output_type": "execute_result"
        }
      ],
      "source": [
        "df_all['title'].iloc[5]"
      ]
    },
    {
      "cell_type": "code",
      "execution_count": 9,
      "metadata": {
        "id": "VIkCWb0naIvE"
      },
      "outputs": [],
      "source": [
        "# Inisialisasi TF-IDF Vectorizer\n",
        "tfidf_vectorizer = TfidfVectorizer()"
      ]
    },
    {
      "cell_type": "code",
      "execution_count": 10,
      "metadata": {
        "colab": {
          "base_uri": "https://localhost:8080/"
        },
        "id": "7BtsTQrsQiBZ",
        "outputId": "464b526a-778c-4ec1-c102-f830d04b42ce"
      },
      "outputs": [
        {
          "name": "stdout",
          "output_type": "stream",
          "text": [
            "Similaritas antara teks 1 dan teks 2: 0.42113589132819584\n"
          ]
        }
      ],
      "source": [
        "# Contoh teks\n",
        "text1 = 'Tingkat METIL METSULFURON dalam COpedoda dhipa sp hahahaha'\n",
        "text2 = 'Tingkat METIL METSULFURON dalam TOKSISITAS MASKULINITAS COPEPODA Daphnia sp.'\n",
        "\n",
        "# Inisialisasi TF-IDF Vectorizer\n",
        "tfidf_vectorizer = TfidfVectorizer()\n",
        "\n",
        "# Transformasi teks menjadi vektor TF-IDF\n",
        "tfidf_matrix = tfidf_vectorizer.fit_transform([text1, text2])\n",
        "\n",
        "# Hitung similaritas kosinus antara kedua teks\n",
        "cosine_similarities = cosine_similarity(tfidf_matrix[0], tfidf_matrix[1])\n",
        "\n",
        "# Tampilkan hasil similaritas\n",
        "print(\"Similaritas antara teks 1 dan teks 2:\", cosine_similarities[0][0])"
      ]
    },
    {
      "cell_type": "code",
      "execution_count": 11,
      "metadata": {},
      "outputs": [],
      "source": [
        "dicari = 'intro kembang KRISAN POTONG DI DESA pesawaran'\n",
        "dicari = dicari.lower()"
      ]
    },
    {
      "cell_type": "code",
      "execution_count": 12,
      "metadata": {},
      "outputs": [],
      "source": [
        "def remove_stopwords(text):\n",
        "    factory = StopWordRemoverFactory()\n",
        "    stopwords = factory.get_stop_words()\n",
        "\n",
        "    result = []\n",
        "    for x in  text.split():\n",
        "        if x not in stopwords:\n",
        "            result.append(x)\n",
        "\n",
        "    hasil_stopword = \" \".join(result)\n",
        "\n",
        "    return hasil_stopword"
      ]
    },
    {
      "cell_type": "code",
      "execution_count": 67,
      "metadata": {},
      "outputs": [],
      "source": [
        "def stem(text):\n",
        "    factory2 = StemmerFactory()\n",
        "    stemmer = factory2.create_stemmer()\n",
        "    return stemmer.stem(text)"
      ]
    },
    {
      "cell_type": "code",
      "execution_count": 13,
      "metadata": {},
      "outputs": [
        {
          "data": {
            "text/plain": [
              "'intro kembang krisan potong desa pesawaran'"
            ]
          },
          "execution_count": 13,
          "metadata": {},
          "output_type": "execute_result"
        }
      ],
      "source": [
        "dicari = remove_stopwords(dicari)\n",
        "dicari"
      ]
    },
    {
      "cell_type": "code",
      "execution_count": 28,
      "metadata": {
        "colab": {
          "base_uri": "https://localhost:8080/"
        },
        "id": "ozmRwmyXT6tj",
        "outputId": "de09df31-b0c3-47a2-ec58-c9e443748c55"
      },
      "outputs": [
        {
          "name": "stderr",
          "output_type": "stream",
          "text": [
            "100%|██████████| 1000/1000 [00:04<00:00, 246.29it/s]\n"
          ]
        }
      ],
      "source": [
        "from tqdm import tqdm\n",
        "\n",
        "df_temu = []\n",
        "similaritas = []\n",
        "\n",
        "for i in tqdm(range(len(df_all['text_stemmed']))):\n",
        "  temp = df_all['text_stemmed'].iloc[i]\n",
        "\n",
        "  # Transformasi teks menjadi vektor TF-IDF\n",
        "  tfidf_matrix = tfidf_vectorizer.fit_transform([dicari, temp])\n",
        "\n",
        "  # Hitung similaritas kosinus antara kedua teks\n",
        "  cosine_similarities = cosine_similarity(tfidf_matrix[0], tfidf_matrix[1])\n",
        "\n",
        "  if cosine_similarities[0][0] > 0.1:\n",
        "    df_temu.append(df_all.iloc[i])\n",
        "    similaritas.append(cosine_similarities)\n",
        "\n",
        "df_temu = pd.DataFrame(df_temu)\n",
        "df_temu['similaritas'] = similaritas"
      ]
    },
    {
      "cell_type": "code",
      "execution_count": 29,
      "metadata": {},
      "outputs": [
        {
          "data": {
            "text/plain": [
              "20"
            ]
          },
          "execution_count": 29,
          "metadata": {},
          "output_type": "execute_result"
        }
      ],
      "source": [
        "len(df_temu)"
      ]
    },
    {
      "cell_type": "code",
      "execution_count": 30,
      "metadata": {
        "colab": {
          "base_uri": "https://localhost:8080/",
          "height": 5774
        },
        "id": "dSWCRgxVVfni",
        "outputId": "c882e1bb-fc1a-462d-b0e1-d46846a30c21"
      },
      "outputs": [
        {
          "data": {
            "text/html": [
              "<div>\n",
              "<style scoped>\n",
              "    .dataframe tbody tr th:only-of-type {\n",
              "        vertical-align: middle;\n",
              "    }\n",
              "\n",
              "    .dataframe tbody tr th {\n",
              "        vertical-align: top;\n",
              "    }\n",
              "\n",
              "    .dataframe thead th {\n",
              "        text-align: right;\n",
              "    }\n",
              "</style>\n",
              "<table border=\"1\" class=\"dataframe\">\n",
              "  <thead>\n",
              "    <tr style=\"text-align: right;\">\n",
              "      <th></th>\n",
              "      <th>title</th>\n",
              "      <th>similaritas</th>\n",
              "      <th>abstract</th>\n",
              "    </tr>\n",
              "  </thead>\n",
              "  <tbody>\n",
              "    <tr>\n",
              "      <th>5</th>\n",
              "      <td>PENGENALAN BUNGA KRISAN POTONG DI DESA SUNGAI ...</td>\n",
              "      <td>[[0.29700048400793727]]</td>\n",
              "      <td>Tujuan kegiatan ini adalah mengenalkan \\nkomod...</td>\n",
              "    </tr>\n",
              "    <tr>\n",
              "      <th>364</th>\n",
              "      <td>MODEL REGULASI REVITALISASI BUMDES UNTUK MENIN...</td>\n",
              "      <td>[[0.20420476491133877]]</td>\n",
              "      <td>Badan Usaha Milik Desa (BUMDes) bukan hal baru...</td>\n",
              "    </tr>\n",
              "    <tr>\n",
              "      <th>809</th>\n",
              "      <td>PENDAMPINGAN PEMETAAN POTENSI DESA DONO ARUM B...</td>\n",
              "      <td>[[0.2003808302844586]]</td>\n",
              "      <td>Pembangunan desa menjadi salah satu fokus utam...</td>\n",
              "    </tr>\n",
              "    <tr>\n",
              "      <th>976</th>\n",
              "      <td>BANTUAN TEKNIS PEMBUATAN PETA DESA SUKOHARJO 3...</td>\n",
              "      <td>[[0.1711863996883662]]</td>\n",
              "      <td>Dalam penyelenggaraan pemerintahan yang baik, ...</td>\n",
              "    </tr>\n",
              "    <tr>\n",
              "      <th>706</th>\n",
              "      <td>LAPORAN AKHIR PENGABDIAN DIPA FT UNIVERSITAS L...</td>\n",
              "      <td>[[0.16243361005558013]]</td>\n",
              "      <td>Dalam  penyelenggaraan  pemerintahan  yang  ba...</td>\n",
              "    </tr>\n",
              "    <tr>\n",
              "      <th>133</th>\n",
              "      <td>Manfaat program Smart Village di Desa Hanura K...</td>\n",
              "      <td>[[0.15830078629952526]]</td>\n",
              "      <td>Saat ini pembangunan wilayah pedesaan mengalam...</td>\n",
              "    </tr>\n",
              "    <tr>\n",
              "      <th>66</th>\n",
              "      <td>Pengembangan Pertanian Frontier di Desa Sidoka...</td>\n",
              "      <td>[[0.1480350210986175]]</td>\n",
              "      <td>Gisting merupakan representasi wilayah pertani...</td>\n",
              "    </tr>\n",
              "    <tr>\n",
              "      <th>246</th>\n",
              "      <td>PEMAMPUDAYAAN KELOMPOK SADAR WISATAMELALUI PEN...</td>\n",
              "      <td>[[0.14764566818120411]]</td>\n",
              "      <td>Tujuan  kegiatan  pengabdian  kepada  masyarak...</td>\n",
              "    </tr>\n",
              "    <tr>\n",
              "      <th>128</th>\n",
              "      <td>Pembangunan Dan Pemberdayaan Masyarakat Desa M...</td>\n",
              "      <td>[[0.14362799865308862]]</td>\n",
              "      <td>NaN</td>\n",
              "    </tr>\n",
              "    <tr>\n",
              "      <th>129</th>\n",
              "      <td>Pendirian Badan Usaha Milik Desa (Bumdes) Untu...</td>\n",
              "      <td>[[0.12442854619985262]]</td>\n",
              "      <td>NaN</td>\n",
              "    </tr>\n",
              "    <tr>\n",
              "      <th>842</th>\n",
              "      <td>PENDIDIKAN DAN PELATIHAN BAGI KAUM MILENIAL SE...</td>\n",
              "      <td>[[0.11489539042307052]]</td>\n",
              "      <td>Tujuan kegiatan pengabdian kepada masyarakat i...</td>\n",
              "    </tr>\n",
              "    <tr>\n",
              "      <th>266</th>\n",
              "      <td>Pengembangan Ekonomi Kreatif Potensi Sumber Da...</td>\n",
              "      <td>[[0.11008233339715104]]</td>\n",
              "      <td>Unit usaha relatif sulit untuk mengadopsi perk...</td>\n",
              "    </tr>\n",
              "    <tr>\n",
              "      <th>11</th>\n",
              "      <td>Pembuatan VCO dengan Metode Mekanik di Desa Pa...</td>\n",
              "      <td>[[0.10916603746722484]]</td>\n",
              "      <td>Desa Panggung Rejo sebagai salah satu desa yan...</td>\n",
              "    </tr>\n",
              "    <tr>\n",
              "      <th>288</th>\n",
              "      <td>Analisa Kegiatan Program Kerjasama Antara TNI ...</td>\n",
              "      <td>[[0.10874787990241808]]</td>\n",
              "      <td>Pembangunan desa sangat vital bagi pertumbuhan...</td>\n",
              "    </tr>\n",
              "    <tr>\n",
              "      <th>847</th>\n",
              "      <td>PENDIDIKAN DAN PELATIHAN BAGI KAUM MILENIAL SE...</td>\n",
              "      <td>[[0.10805298098369029]]</td>\n",
              "      <td>Tujuan kegiatan pengabdian kepada masyarakat i...</td>\n",
              "    </tr>\n",
              "    <tr>\n",
              "      <th>839</th>\n",
              "      <td>INOVASI KEBIJAKAN ERA OTONOMI DAERAH : PENGEMB...</td>\n",
              "      <td>[[0.10684849233733498]]</td>\n",
              "      <td>Smart village adalah suatu program kebijakan y...</td>\n",
              "    </tr>\n",
              "    <tr>\n",
              "      <th>840</th>\n",
              "      <td>INOVASI KEBIJAKAN ERA OTONOMI DAERAH : PENGEMB...</td>\n",
              "      <td>[[0.10684849233733498]]</td>\n",
              "      <td>Smart village adalah suatu program kebijakan y...</td>\n",
              "    </tr>\n",
              "    <tr>\n",
              "      <th>846</th>\n",
              "      <td>INOVASI KEBIJAKAN ERA OTONOMI DAERAH : PENGEMB...</td>\n",
              "      <td>[[0.10670152290341094]]</td>\n",
              "      <td>Smart village adalah suatu program kebijakan y...</td>\n",
              "    </tr>\n",
              "    <tr>\n",
              "      <th>370</th>\n",
              "      <td>PENGEMBANGAN UMKM MELALUI PRODUKSI SABUN\"GKT S...</td>\n",
              "      <td>[[0.10515083672565506]]</td>\n",
              "      <td>Sebagian besar masyarakat Desa Gunung Katun Ta...</td>\n",
              "    </tr>\n",
              "    <tr>\n",
              "      <th>126</th>\n",
              "      <td>Penguatan Kapasitas Kelembagaan Desa dan Kelom...</td>\n",
              "      <td>[[0.10124728230994182]]</td>\n",
              "      <td>Pengembangan pariwisata di Propinsi Lampung ha...</td>\n",
              "    </tr>\n",
              "  </tbody>\n",
              "</table>\n",
              "</div>"
            ],
            "text/plain": [
              "                                                 title  \\\n",
              "5    PENGENALAN BUNGA KRISAN POTONG DI DESA SUNGAI ...   \n",
              "364  MODEL REGULASI REVITALISASI BUMDES UNTUK MENIN...   \n",
              "809  PENDAMPINGAN PEMETAAN POTENSI DESA DONO ARUM B...   \n",
              "976  BANTUAN TEKNIS PEMBUATAN PETA DESA SUKOHARJO 3...   \n",
              "706  LAPORAN AKHIR PENGABDIAN DIPA FT UNIVERSITAS L...   \n",
              "133  Manfaat program Smart Village di Desa Hanura K...   \n",
              "66   Pengembangan Pertanian Frontier di Desa Sidoka...   \n",
              "246  PEMAMPUDAYAAN KELOMPOK SADAR WISATAMELALUI PEN...   \n",
              "128  Pembangunan Dan Pemberdayaan Masyarakat Desa M...   \n",
              "129  Pendirian Badan Usaha Milik Desa (Bumdes) Untu...   \n",
              "842  PENDIDIKAN DAN PELATIHAN BAGI KAUM MILENIAL SE...   \n",
              "266  Pengembangan Ekonomi Kreatif Potensi Sumber Da...   \n",
              "11   Pembuatan VCO dengan Metode Mekanik di Desa Pa...   \n",
              "288  Analisa Kegiatan Program Kerjasama Antara TNI ...   \n",
              "847  PENDIDIKAN DAN PELATIHAN BAGI KAUM MILENIAL SE...   \n",
              "839  INOVASI KEBIJAKAN ERA OTONOMI DAERAH : PENGEMB...   \n",
              "840  INOVASI KEBIJAKAN ERA OTONOMI DAERAH : PENGEMB...   \n",
              "846  INOVASI KEBIJAKAN ERA OTONOMI DAERAH : PENGEMB...   \n",
              "370  PENGEMBANGAN UMKM MELALUI PRODUKSI SABUN\"GKT S...   \n",
              "126  Penguatan Kapasitas Kelembagaan Desa dan Kelom...   \n",
              "\n",
              "                 similaritas  \\\n",
              "5    [[0.29700048400793727]]   \n",
              "364  [[0.20420476491133877]]   \n",
              "809   [[0.2003808302844586]]   \n",
              "976   [[0.1711863996883662]]   \n",
              "706  [[0.16243361005558013]]   \n",
              "133  [[0.15830078629952526]]   \n",
              "66    [[0.1480350210986175]]   \n",
              "246  [[0.14764566818120411]]   \n",
              "128  [[0.14362799865308862]]   \n",
              "129  [[0.12442854619985262]]   \n",
              "842  [[0.11489539042307052]]   \n",
              "266  [[0.11008233339715104]]   \n",
              "11   [[0.10916603746722484]]   \n",
              "288  [[0.10874787990241808]]   \n",
              "847  [[0.10805298098369029]]   \n",
              "839  [[0.10684849233733498]]   \n",
              "840  [[0.10684849233733498]]   \n",
              "846  [[0.10670152290341094]]   \n",
              "370  [[0.10515083672565506]]   \n",
              "126  [[0.10124728230994182]]   \n",
              "\n",
              "                                              abstract  \n",
              "5    Tujuan kegiatan ini adalah mengenalkan \\nkomod...  \n",
              "364  Badan Usaha Milik Desa (BUMDes) bukan hal baru...  \n",
              "809  Pembangunan desa menjadi salah satu fokus utam...  \n",
              "976  Dalam penyelenggaraan pemerintahan yang baik, ...  \n",
              "706  Dalam  penyelenggaraan  pemerintahan  yang  ba...  \n",
              "133  Saat ini pembangunan wilayah pedesaan mengalam...  \n",
              "66   Gisting merupakan representasi wilayah pertani...  \n",
              "246  Tujuan  kegiatan  pengabdian  kepada  masyarak...  \n",
              "128                                                NaN  \n",
              "129                                                NaN  \n",
              "842  Tujuan kegiatan pengabdian kepada masyarakat i...  \n",
              "266  Unit usaha relatif sulit untuk mengadopsi perk...  \n",
              "11   Desa Panggung Rejo sebagai salah satu desa yan...  \n",
              "288  Pembangunan desa sangat vital bagi pertumbuhan...  \n",
              "847  Tujuan kegiatan pengabdian kepada masyarakat i...  \n",
              "839  Smart village adalah suatu program kebijakan y...  \n",
              "840  Smart village adalah suatu program kebijakan y...  \n",
              "846  Smart village adalah suatu program kebijakan y...  \n",
              "370  Sebagian besar masyarakat Desa Gunung Katun Ta...  \n",
              "126  Pengembangan pariwisata di Propinsi Lampung ha...  "
            ]
          },
          "execution_count": 30,
          "metadata": {},
          "output_type": "execute_result"
        }
      ],
      "source": [
        "df_temu[['title', 'similaritas','abstract']].sort_values(by=['similaritas'], ascending=False)"
      ]
    },
    {
      "cell_type": "code",
      "execution_count": 32,
      "metadata": {},
      "outputs": [],
      "source": [
        "tokenizer = RegexpTokenizer(r'\\w+')\n",
        "\n",
        "topik = []\n",
        "\n",
        "for index in range(len(df_temu)):\n",
        "  # Ambil dataset contoh (dalam kasus ini, dataset 20 newsgroups)\n",
        "  teks = df_temu['fulltext_stopword'].iloc[index]\n",
        "  data = tokenizer.tokenize(teks)\n",
        "\n",
        "  # Proses vektorisasi teks dengan TF-IDF\n",
        "  tfidf_vectorizer = TfidfVectorizer(max_features=5000)\n",
        "  tfidf_matrix = tfidf_vectorizer.fit_transform(data)\n",
        "\n",
        "  # Terapkan LSA dengan TruncatedSVD\n",
        "  num_topics = 4  # Jumlah topik yang ingin diidentifikasi\n",
        "  lsa_model = TruncatedSVD(n_components=num_topics, random_state=42)\n",
        "  lsa_topic_matrix = lsa_model.fit_transform(tfidf_matrix)\n",
        "\n",
        "  # Ambil kata-kata kunci untuk setiap topik\n",
        "  terms = tfidf_vectorizer.get_feature_names_out()\n",
        "  top_keywords = 1  # Jumlah kata kunci untuk setiap topik (HANYA BISA DIAMBIL 1)\n",
        "\n",
        "  kata_kunci = []\n",
        "\n",
        "  for i, topic in enumerate(lsa_model.components_):\n",
        "      top_keywords_idx = topic.argsort()[-top_keywords:][::-1]\n",
        "      keywords = [terms[key_idx] for key_idx in top_keywords_idx]\n",
        "      kata_kunci.append(keywords[0])\n",
        "\n",
        "  topik.append(kata_kunci)\n",
        "\n",
        "df_temu['topik'] = topik"
      ]
    },
    {
      "cell_type": "code",
      "execution_count": 33,
      "metadata": {},
      "outputs": [
        {
          "data": {
            "text/html": [
              "<div>\n",
              "<style scoped>\n",
              "    .dataframe tbody tr th:only-of-type {\n",
              "        vertical-align: middle;\n",
              "    }\n",
              "\n",
              "    .dataframe tbody tr th {\n",
              "        vertical-align: top;\n",
              "    }\n",
              "\n",
              "    .dataframe thead th {\n",
              "        text-align: right;\n",
              "    }\n",
              "</style>\n",
              "<table border=\"1\" class=\"dataframe\">\n",
              "  <thead>\n",
              "    <tr style=\"text-align: right;\">\n",
              "      <th></th>\n",
              "      <th>title</th>\n",
              "      <th>similaritas</th>\n",
              "      <th>abstract</th>\n",
              "      <th>keywords</th>\n",
              "      <th>topik</th>\n",
              "    </tr>\n",
              "  </thead>\n",
              "  <tbody>\n",
              "    <tr>\n",
              "      <th>5</th>\n",
              "      <td>PENGENALAN BUNGA KRISAN POTONG DI DESA SUNGAI ...</td>\n",
              "      <td>[[0.29700048400793727]]</td>\n",
              "      <td>Tujuan kegiatan ini adalah mengenalkan \\nkomod...</td>\n",
              "      <td>NaN</td>\n",
              "      <td>[potong, komoditas, krisan, bunga]</td>\n",
              "    </tr>\n",
              "    <tr>\n",
              "      <th>364</th>\n",
              "      <td>MODEL REGULASI REVITALISASI BUMDES UNTUK MENIN...</td>\n",
              "      <td>[[0.20420476491133877]]</td>\n",
              "      <td>Badan Usaha Milik Desa (BUMDes) bukan hal baru...</td>\n",
              "      <td>NaN</td>\n",
              "      <td>[bumdes, desa, esa, ndang]</td>\n",
              "    </tr>\n",
              "    <tr>\n",
              "      <th>809</th>\n",
              "      <td>PENDAMPINGAN PEMETAAN POTENSI DESA DONO ARUM B...</td>\n",
              "      <td>[[0.2003808302844586]]</td>\n",
              "      <td>Pembangunan desa menjadi salah satu fokus utam...</td>\n",
              "      <td>NaN</td>\n",
              "      <td>[desa, potensi, kegiatan, masyarakat]</td>\n",
              "    </tr>\n",
              "    <tr>\n",
              "      <th>976</th>\n",
              "      <td>BANTUAN TEKNIS PEMBUATAN PETA DESA SUKOHARJO 3...</td>\n",
              "      <td>[[0.1711863996883662]]</td>\n",
              "      <td>Dalam penyelenggaraan pemerintahan yang baik, ...</td>\n",
              "      <td>Peta Desa, Batas Desa, Titik Batas</td>\n",
              "      <td>[desa, peta, batas, titik]</td>\n",
              "    </tr>\n",
              "    <tr>\n",
              "      <th>706</th>\n",
              "      <td>LAPORAN AKHIR PENGABDIAN DIPA FT UNIVERSITAS L...</td>\n",
              "      <td>[[0.16243361005558013]]</td>\n",
              "      <td>Dalam  penyelenggaraan  pemerintahan  yang  ba...</td>\n",
              "      <td>NaN</td>\n",
              "      <td>[desa, batas, praktik, peta]</td>\n",
              "    </tr>\n",
              "    <tr>\n",
              "      <th>133</th>\n",
              "      <td>Manfaat program Smart Village di Desa Hanura K...</td>\n",
              "      <td>[[0.15830078629952526]]</td>\n",
              "      <td>Saat ini pembangunan wilayah pedesaan mengalam...</td>\n",
              "      <td>NaN</td>\n",
              "      <td>[desa, program, smart, smart]</td>\n",
              "    </tr>\n",
              "    <tr>\n",
              "      <th>66</th>\n",
              "      <td>Pengembangan Pertanian Frontier di Desa Sidoka...</td>\n",
              "      <td>[[0.1480350210986175]]</td>\n",
              "      <td>Gisting merupakan representasi wilayah pertani...</td>\n",
              "      <td>NaN</td>\n",
              "      <td>[pertanian, pengembangan, desa, frontier]</td>\n",
              "    </tr>\n",
              "    <tr>\n",
              "      <th>246</th>\n",
              "      <td>PEMAMPUDAYAAN KELOMPOK SADAR WISATAMELALUI PEN...</td>\n",
              "      <td>[[0.14764566818120411]]</td>\n",
              "      <td>Tujuan  kegiatan  pengabdian  kepada  masyarak...</td>\n",
              "      <td>pendidikan dan pelatihan, community capacity, ...</td>\n",
              "      <td>[desa, wisata, kunjir, pengembangan]</td>\n",
              "    </tr>\n",
              "    <tr>\n",
              "      <th>128</th>\n",
              "      <td>Pembangunan Dan Pemberdayaan Masyarakat Desa M...</td>\n",
              "      <td>[[0.14362799865308862]]</td>\n",
              "      <td>NaN</td>\n",
              "      <td>NaN</td>\n",
              "      <td>[desa, pembangunan, masyarakat, pemberdayaan]</td>\n",
              "    </tr>\n",
              "    <tr>\n",
              "      <th>129</th>\n",
              "      <td>Pendirian Badan Usaha Milik Desa (Bumdes) Untu...</td>\n",
              "      <td>[[0.12442854619985262]]</td>\n",
              "      <td>NaN</td>\n",
              "      <td>NaN</td>\n",
              "      <td>[desa, mewujudkan, masyarakat, ekonomi]</td>\n",
              "    </tr>\n",
              "    <tr>\n",
              "      <th>842</th>\n",
              "      <td>PENDIDIKAN DAN PELATIHAN BAGI KAUM MILENIAL SE...</td>\n",
              "      <td>[[0.11489539042307052]]</td>\n",
              "      <td>Tujuan kegiatan pengabdian kepada masyarakat i...</td>\n",
              "      <td>pendidikan dan pelatihan, millennial, cross cu...</td>\n",
              "      <td>[wisata, jaya, pariwisata, rigis]</td>\n",
              "    </tr>\n",
              "    <tr>\n",
              "      <th>266</th>\n",
              "      <td>Pengembangan Ekonomi Kreatif Potensi Sumber Da...</td>\n",
              "      <td>[[0.11008233339715104]]</td>\n",
              "      <td>Unit usaha relatif sulit untuk mengadopsi perk...</td>\n",
              "      <td>NaN</td>\n",
              "      <td>[bandar, ekonomi, singkong, kreatif]</td>\n",
              "    </tr>\n",
              "    <tr>\n",
              "      <th>11</th>\n",
              "      <td>Pembuatan VCO dengan Metode Mekanik di Desa Pa...</td>\n",
              "      <td>[[0.10916603746722484]]</td>\n",
              "      <td>Desa Panggung Rejo sebagai salah satu desa yan...</td>\n",
              "      <td>NaN</td>\n",
              "      <td>[masyarakat, desa, kelapa, vco]</td>\n",
              "    </tr>\n",
              "    <tr>\n",
              "      <th>288</th>\n",
              "      <td>Analisa Kegiatan Program Kerjasama Antara TNI ...</td>\n",
              "      <td>[[0.10874787990241808]]</td>\n",
              "      <td>Pembangunan desa sangat vital bagi pertumbuhan...</td>\n",
              "      <td>TNI, Manunggal Membangun Desa, TMMD, Desa Pema...</td>\n",
              "      <td>[desa, tni, masyarakat, tmmd]</td>\n",
              "    </tr>\n",
              "    <tr>\n",
              "      <th>847</th>\n",
              "      <td>PENDIDIKAN DAN PELATIHAN BAGI KAUM MILENIAL SE...</td>\n",
              "      <td>[[0.10805298098369029]]</td>\n",
              "      <td>Tujuan kegiatan pengabdian kepada masyarakat i...</td>\n",
              "      <td>pendidikan dan pelatihan, millennial, cross cu...</td>\n",
              "      <td>[pengembangan, wisata, pariwisata, jaya]</td>\n",
              "    </tr>\n",
              "    <tr>\n",
              "      <th>839</th>\n",
              "      <td>INOVASI KEBIJAKAN ERA OTONOMI DAERAH : PENGEMB...</td>\n",
              "      <td>[[0.10684849233733498]]</td>\n",
              "      <td>Smart village adalah suatu program kebijakan y...</td>\n",
              "      <td>inovasi; pariwisata; kampoeng kopi; rigis jaya...</td>\n",
              "      <td>[smart, village, penelitian, masyarakat]</td>\n",
              "    </tr>\n",
              "    <tr>\n",
              "      <th>840</th>\n",
              "      <td>INOVASI KEBIJAKAN ERA OTONOMI DAERAH : PENGEMB...</td>\n",
              "      <td>[[0.10684849233733498]]</td>\n",
              "      <td>Smart village adalah suatu program kebijakan y...</td>\n",
              "      <td>inovasi; pariwisata; kampoeng kopi; rigis jaya...</td>\n",
              "      <td>[smart, village, penelitian, masyarakat]</td>\n",
              "    </tr>\n",
              "    <tr>\n",
              "      <th>846</th>\n",
              "      <td>INOVASI KEBIJAKAN ERA OTONOMI DAERAH : PENGEMB...</td>\n",
              "      <td>[[0.10670152290341094]]</td>\n",
              "      <td>Smart village adalah suatu program kebijakan y...</td>\n",
              "      <td>inovasi; pariwisata; kampoeng kopi; rigis jaya...</td>\n",
              "      <td>[smart, village, penelitian, pengembangan]</td>\n",
              "    </tr>\n",
              "    <tr>\n",
              "      <th>370</th>\n",
              "      <td>PENGEMBANGAN UMKM MELALUI PRODUKSI SABUN\"GKT S...</td>\n",
              "      <td>[[0.10515083672565506]]</td>\n",
              "      <td>Sebagian besar masyarakat Desa Gunung Katun Ta...</td>\n",
              "      <td>NaN</td>\n",
              "      <td>[desa, meningkatkan, penanaman, sabun]</td>\n",
              "    </tr>\n",
              "    <tr>\n",
              "      <th>126</th>\n",
              "      <td>Penguatan Kapasitas Kelembagaan Desa dan Kelom...</td>\n",
              "      <td>[[0.10124728230994182]]</td>\n",
              "      <td>Pengembangan pariwisata di Propinsi Lampung ha...</td>\n",
              "      <td>NaN</td>\n",
              "      <td>[wisata, desa, kunjir, pelatihan]</td>\n",
              "    </tr>\n",
              "  </tbody>\n",
              "</table>\n",
              "</div>"
            ],
            "text/plain": [
              "                                                 title  \\\n",
              "5    PENGENALAN BUNGA KRISAN POTONG DI DESA SUNGAI ...   \n",
              "364  MODEL REGULASI REVITALISASI BUMDES UNTUK MENIN...   \n",
              "809  PENDAMPINGAN PEMETAAN POTENSI DESA DONO ARUM B...   \n",
              "976  BANTUAN TEKNIS PEMBUATAN PETA DESA SUKOHARJO 3...   \n",
              "706  LAPORAN AKHIR PENGABDIAN DIPA FT UNIVERSITAS L...   \n",
              "133  Manfaat program Smart Village di Desa Hanura K...   \n",
              "66   Pengembangan Pertanian Frontier di Desa Sidoka...   \n",
              "246  PEMAMPUDAYAAN KELOMPOK SADAR WISATAMELALUI PEN...   \n",
              "128  Pembangunan Dan Pemberdayaan Masyarakat Desa M...   \n",
              "129  Pendirian Badan Usaha Milik Desa (Bumdes) Untu...   \n",
              "842  PENDIDIKAN DAN PELATIHAN BAGI KAUM MILENIAL SE...   \n",
              "266  Pengembangan Ekonomi Kreatif Potensi Sumber Da...   \n",
              "11   Pembuatan VCO dengan Metode Mekanik di Desa Pa...   \n",
              "288  Analisa Kegiatan Program Kerjasama Antara TNI ...   \n",
              "847  PENDIDIKAN DAN PELATIHAN BAGI KAUM MILENIAL SE...   \n",
              "839  INOVASI KEBIJAKAN ERA OTONOMI DAERAH : PENGEMB...   \n",
              "840  INOVASI KEBIJAKAN ERA OTONOMI DAERAH : PENGEMB...   \n",
              "846  INOVASI KEBIJAKAN ERA OTONOMI DAERAH : PENGEMB...   \n",
              "370  PENGEMBANGAN UMKM MELALUI PRODUKSI SABUN\"GKT S...   \n",
              "126  Penguatan Kapasitas Kelembagaan Desa dan Kelom...   \n",
              "\n",
              "                 similaritas  \\\n",
              "5    [[0.29700048400793727]]   \n",
              "364  [[0.20420476491133877]]   \n",
              "809   [[0.2003808302844586]]   \n",
              "976   [[0.1711863996883662]]   \n",
              "706  [[0.16243361005558013]]   \n",
              "133  [[0.15830078629952526]]   \n",
              "66    [[0.1480350210986175]]   \n",
              "246  [[0.14764566818120411]]   \n",
              "128  [[0.14362799865308862]]   \n",
              "129  [[0.12442854619985262]]   \n",
              "842  [[0.11489539042307052]]   \n",
              "266  [[0.11008233339715104]]   \n",
              "11   [[0.10916603746722484]]   \n",
              "288  [[0.10874787990241808]]   \n",
              "847  [[0.10805298098369029]]   \n",
              "839  [[0.10684849233733498]]   \n",
              "840  [[0.10684849233733498]]   \n",
              "846  [[0.10670152290341094]]   \n",
              "370  [[0.10515083672565506]]   \n",
              "126  [[0.10124728230994182]]   \n",
              "\n",
              "                                              abstract  \\\n",
              "5    Tujuan kegiatan ini adalah mengenalkan \\nkomod...   \n",
              "364  Badan Usaha Milik Desa (BUMDes) bukan hal baru...   \n",
              "809  Pembangunan desa menjadi salah satu fokus utam...   \n",
              "976  Dalam penyelenggaraan pemerintahan yang baik, ...   \n",
              "706  Dalam  penyelenggaraan  pemerintahan  yang  ba...   \n",
              "133  Saat ini pembangunan wilayah pedesaan mengalam...   \n",
              "66   Gisting merupakan representasi wilayah pertani...   \n",
              "246  Tujuan  kegiatan  pengabdian  kepada  masyarak...   \n",
              "128                                                NaN   \n",
              "129                                                NaN   \n",
              "842  Tujuan kegiatan pengabdian kepada masyarakat i...   \n",
              "266  Unit usaha relatif sulit untuk mengadopsi perk...   \n",
              "11   Desa Panggung Rejo sebagai salah satu desa yan...   \n",
              "288  Pembangunan desa sangat vital bagi pertumbuhan...   \n",
              "847  Tujuan kegiatan pengabdian kepada masyarakat i...   \n",
              "839  Smart village adalah suatu program kebijakan y...   \n",
              "840  Smart village adalah suatu program kebijakan y...   \n",
              "846  Smart village adalah suatu program kebijakan y...   \n",
              "370  Sebagian besar masyarakat Desa Gunung Katun Ta...   \n",
              "126  Pengembangan pariwisata di Propinsi Lampung ha...   \n",
              "\n",
              "                                              keywords  \\\n",
              "5                                                  NaN   \n",
              "364                                                NaN   \n",
              "809                                                NaN   \n",
              "976                 Peta Desa, Batas Desa, Titik Batas   \n",
              "706                                                NaN   \n",
              "133                                                NaN   \n",
              "66                                                 NaN   \n",
              "246  pendidikan dan pelatihan, community capacity, ...   \n",
              "128                                                NaN   \n",
              "129                                                NaN   \n",
              "842  pendidikan dan pelatihan, millennial, cross cu...   \n",
              "266                                                NaN   \n",
              "11                                                 NaN   \n",
              "288  TNI, Manunggal Membangun Desa, TMMD, Desa Pema...   \n",
              "847  pendidikan dan pelatihan, millennial, cross cu...   \n",
              "839  inovasi; pariwisata; kampoeng kopi; rigis jaya...   \n",
              "840  inovasi; pariwisata; kampoeng kopi; rigis jaya...   \n",
              "846  inovasi; pariwisata; kampoeng kopi; rigis jaya...   \n",
              "370                                                NaN   \n",
              "126                                                NaN   \n",
              "\n",
              "                                             topik  \n",
              "5               [potong, komoditas, krisan, bunga]  \n",
              "364                     [bumdes, desa, esa, ndang]  \n",
              "809          [desa, potensi, kegiatan, masyarakat]  \n",
              "976                     [desa, peta, batas, titik]  \n",
              "706                   [desa, batas, praktik, peta]  \n",
              "133                  [desa, program, smart, smart]  \n",
              "66       [pertanian, pengembangan, desa, frontier]  \n",
              "246           [desa, wisata, kunjir, pengembangan]  \n",
              "128  [desa, pembangunan, masyarakat, pemberdayaan]  \n",
              "129        [desa, mewujudkan, masyarakat, ekonomi]  \n",
              "842              [wisata, jaya, pariwisata, rigis]  \n",
              "266           [bandar, ekonomi, singkong, kreatif]  \n",
              "11                 [masyarakat, desa, kelapa, vco]  \n",
              "288                  [desa, tni, masyarakat, tmmd]  \n",
              "847       [pengembangan, wisata, pariwisata, jaya]  \n",
              "839       [smart, village, penelitian, masyarakat]  \n",
              "840       [smart, village, penelitian, masyarakat]  \n",
              "846     [smart, village, penelitian, pengembangan]  \n",
              "370         [desa, meningkatkan, penanaman, sabun]  \n",
              "126              [wisata, desa, kunjir, pelatihan]  "
            ]
          },
          "execution_count": 33,
          "metadata": {},
          "output_type": "execute_result"
        }
      ],
      "source": [
        "df_temu[['title', 'similaritas','abstract','keywords','topik']].sort_values(by=['similaritas'], ascending=False)"
      ]
    },
    {
      "cell_type": "markdown",
      "metadata": {},
      "source": [
        "# Test SCRIPT STKI"
      ]
    },
    {
      "cell_type": "code",
      "execution_count": 78,
      "metadata": {},
      "outputs": [
        {
          "name": "stderr",
          "output_type": "stream",
          "text": [
            "100%|██████████| 1000/1000 [00:03<00:00, 253.79it/s]\n"
          ]
        }
      ],
      "source": [
        "import pandas as pd\n",
        "import numpy as np\n",
        "from sklearn.feature_extraction.text import TfidfVectorizer\n",
        "from sklearn.metrics.pairwise import cosine_similarity\n",
        "from sklearn.decomposition import TruncatedSVD\n",
        "from Sastrawi.StopWordRemover.StopWordRemoverFactory import StopWordRemoverFactory\n",
        "from Sastrawi.Stemmer.StemmerFactory import StemmerFactory\n",
        "from nltk.tokenize import RegexpTokenizer\n",
        "from tqdm import tqdm\n",
        "\n",
        "def search(teks):\n",
        "  df = pd.read_excel(r'D:\\TEST Codingan\\Sistem-Temu-Kembali-Informasi\\Riset Jupiter Notebook\\Data\\df_final.xlsx').head(1000)\n",
        "  df = df.drop(columns='Unnamed: 0')\n",
        "\n",
        "  teks = stem(teks)\n",
        "\n",
        "  df_temu = []\n",
        "  similaritas = []\n",
        "\n",
        "  # Inisialisasi TF-IDF Vectorizer\n",
        "  tfidf_vectorizer = TfidfVectorizer()\n",
        "\n",
        "  for i in tqdm(range(len(df['text_stemmed']))):\n",
        "    temp = df['text_stemmed'].iloc[i]\n",
        "\n",
        "    # Transformasi teks menjadi vektor TF-IDF\n",
        "    tfidf_matrix = tfidf_vectorizer.fit_transform([teks, temp])\n",
        "\n",
        "    # Hitung similaritas kosinus antara kedua teks\n",
        "    cosine_similarities = cosine_similarity(tfidf_matrix[0], tfidf_matrix[1])\n",
        "\n",
        "    if cosine_similarities[0][0] > 0.1:\n",
        "      df_temu.append(df.iloc[i])\n",
        "      similaritas.append(cosine_similarities)\n",
        "\n",
        "  df_temu = pd.DataFrame(df_temu)\n",
        "  df_temu['similaritas'] = similaritas\n",
        "\n",
        "  return latent_semantic_analysis(df_temu)\n",
        "\n",
        "def remove_stopwords(text):\n",
        "  factory = StopWordRemoverFactory()\n",
        "  stopwords = factory.get_stop_words()\n",
        "\n",
        "  result = []\n",
        "  for x in  text.split():\n",
        "      if x not in stopwords:\n",
        "          result.append(x)\n",
        "\n",
        "  hasil_stopword = \" \".join(result)\n",
        "\n",
        "  return hasil_stopword\n",
        "\n",
        "def stem(text):\n",
        "  factory2 = StemmerFactory()\n",
        "  stemmer = factory2.create_stemmer()\n",
        "  return stemmer.stem(text)\n",
        "\n",
        "def latent_semantic_analysis(dataset):\n",
        "  tokenizer = RegexpTokenizer(r'\\w+')\n",
        "  topik = []\n",
        "\n",
        "  for index in range(len(dataset)):\n",
        "    # Ambil dataset\n",
        "    teks = dataset['fulltext_stopword'].iloc[index]\n",
        "    data = tokenizer.tokenize(teks)\n",
        "\n",
        "    # Proses vektorisasi teks dengan TF-IDF\n",
        "    tfidf_vectorizer = TfidfVectorizer(max_features=5000)\n",
        "    tfidf_matrix = tfidf_vectorizer.fit_transform(data)\n",
        "\n",
        "    # Terapkan LSA dengan TruncatedSVD\n",
        "    num_topics = 4  # Jumlah topik yang ingin diidentifikasi\n",
        "    lsa_model = TruncatedSVD(n_components=num_topics, random_state=42)\n",
        "    lsa_topic_matrix = lsa_model.fit_transform(tfidf_matrix)\n",
        "\n",
        "    # Ambil kata-kata kunci untuk setiap topik\n",
        "    terms = tfidf_vectorizer.get_feature_names_out()\n",
        "    top_keywords = 1  # Jumlah kata kunci untuk setiap topik (HANYA BISA DIAMBIL 1)\n",
        "\n",
        "    kata_kunci = []\n",
        "\n",
        "    for i, topic in enumerate(lsa_model.components_):\n",
        "        top_keywords_idx = topic.argsort()[-top_keywords:][::-1]\n",
        "        keywords = [terms[key_idx] for key_idx in top_keywords_idx]\n",
        "        kata_kunci.append(keywords[0])\n",
        "\n",
        "    topik.append(kata_kunci)\n",
        "  dataset['topik'] = topik\n",
        "  # return dataset\n",
        "  return dataset.iloc[0].to_dict()\n",
        "    \n",
        "dicari = 'intro kembang KRISAN POTONG DI DESA pesawaran'\n",
        "# dicari = input('Masukan Pencarian: ')\n",
        "\n",
        "dataset = search(dicari)"
      ]
    },
    {
      "cell_type": "code",
      "execution_count": 81,
      "metadata": {},
      "outputs": [
        {
          "data": {
            "text/plain": [
              "'PENGENALAN BUNGA KRISAN POTONG DI DESA SUNGAI \\nLANGKA KAB. PESAWARAN SEBAGAI KOMODITAS BARU DI \\nDESA AGROWISATA'"
            ]
          },
          "execution_count": 81,
          "metadata": {},
          "output_type": "execute_result"
        }
      ],
      "source": [
        "dataset['title']"
      ]
    }
  ],
  "metadata": {
    "colab": {
      "collapsed_sections": [
        "tzjNW0YGKJ9T"
      ],
      "provenance": []
    },
    "kernelspec": {
      "display_name": "Python 3",
      "name": "python3"
    },
    "language_info": {
      "codemirror_mode": {
        "name": "ipython",
        "version": 3
      },
      "file_extension": ".py",
      "mimetype": "text/x-python",
      "name": "python",
      "nbconvert_exporter": "python",
      "pygments_lexer": "ipython3",
      "version": "3.12.1"
    }
  },
  "nbformat": 4,
  "nbformat_minor": 0
}
