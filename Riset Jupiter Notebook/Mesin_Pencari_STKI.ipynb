{
  "cells": [
    {
      "cell_type": "code",
      "execution_count": null,
      "metadata": {
        "id": "NpsHL0RECzmH"
      },
      "outputs": [],
      "source": [
        "import pandas as pd\n",
        "import numpy as np\n",
        "from sklearn.feature_extraction.text import TfidfVectorizer\n",
        "from sklearn.metrics.pairwise import cosine_similarity\n",
        "from sklearn.decomposition import TruncatedSVD\n",
        "from Sastrawi.StopWordRemover.StopWordRemoverFactory import StopWordRemoverFactory\n",
        "from Sastrawi.Stemmer.StemmerFactory import StemmerFactory\n",
        "import nltk\n",
        "from nltk.tokenize import RegexpTokenizer"
      ]
    },
    {
      "cell_type": "code",
      "execution_count": null,
      "metadata": {
        "id": "9wACa7AtHSoz"
      },
      "outputs": [],
      "source": [
        "df_all = pd.read_excel(r'D:\\TEST Codingan\\Sistem-Temu-Kembali-Informasi\\Riset Jupiter Notebook\\Data\\df_final.xlsx')"
      ]
    },
    {
      "cell_type": "markdown",
      "metadata": {
        "id": "tzjNW0YGKJ9T"
      },
      "source": [
        "# EDA"
      ]
    },
    {
      "cell_type": "code",
      "execution_count": null,
      "metadata": {
        "id": "JDpgOXslE1AG"
      },
      "outputs": [],
      "source": [
        "df_all = df_all.drop(columns = ['Unnamed: 0'])"
      ]
    },
    {
      "cell_type": "code",
      "execution_count": null,
      "metadata": {
        "colab": {
          "base_uri": "https://localhost:8080/"
        },
        "id": "vzzr3t74FX6E",
        "outputId": "9147e135-622d-44c1-f67b-3679ecaeb48b"
      },
      "outputs": [],
      "source": [
        "df_all.info()"
      ]
    },
    {
      "cell_type": "code",
      "execution_count": null,
      "metadata": {
        "colab": {
          "base_uri": "https://localhost:8080/",
          "height": 3773
        },
        "id": "T1H5fw2J9HqS",
        "outputId": "9a5cbd8b-a04f-410a-cfaf-e4384edfd46c"
      },
      "outputs": [],
      "source": [
        "pd.DataFrame(df_all[['title', 'abstract']])"
      ]
    },
    {
      "cell_type": "code",
      "execution_count": null,
      "metadata": {
        "id": "X8-_6fEsGE5q"
      },
      "outputs": [],
      "source": [
        "topik_riset = {'phew'}\n",
        "\n",
        "for i in range(len(df_all['fokus_riset'])):\n",
        "  topik_riset.add(df_all['fokus_riset'].iloc[i])"
      ]
    },
    {
      "cell_type": "code",
      "execution_count": null,
      "metadata": {
        "colab": {
          "base_uri": "https://localhost:8080/"
        },
        "id": "wTmy8gXuGF9g",
        "outputId": "fb262f7d-801b-4c40-ad06-440413585279"
      },
      "outputs": [],
      "source": [
        "topik_riset"
      ]
    },
    {
      "cell_type": "code",
      "execution_count": null,
      "metadata": {
        "id": "KwIGH6T5FmDV"
      },
      "outputs": [],
      "source": [
        "temporal = []\n",
        "\n",
        "for i in range(len(df_all['fokus_riset'])):\n",
        "  if df_all['fokus_riset'].iloc[i] == 'Kesehatan-Obat':\n",
        "    temporal.append(df_all.iloc[i])"
      ]
    },
    {
      "cell_type": "code",
      "execution_count": null,
      "metadata": {
        "id": "L40bsksBF1Hk"
      },
      "outputs": [],
      "source": [
        "temporal = []\n",
        "\n",
        "for i in range(len(df_all['fokus_riset'])):\n",
        "  if pd.isnull(df_all['fokus_riset'].iloc[i]):\n",
        "    temporal.append(df_all.iloc[i])"
      ]
    },
    {
      "cell_type": "code",
      "execution_count": null,
      "metadata": {
        "colab": {
          "base_uri": "https://localhost:8080/"
        },
        "id": "mHJQRts8F2m1",
        "outputId": "01c93ed2-c2f5-47c7-f6af-2ddb206d6598"
      },
      "outputs": [],
      "source": [
        "len(temporal)"
      ]
    },
    {
      "cell_type": "code",
      "execution_count": null,
      "metadata": {
        "colab": {
          "base_uri": "https://localhost:8080/",
          "height": 199
        },
        "id": "tnx2-s6wF5io",
        "outputId": "de5adeb9-d236-4457-afa2-ff860672c899"
      },
      "outputs": [],
      "source": [
        "df_temp = pd.DataFrame(temporal)\n",
        "df_temp[['title', 'fokus_riset']]"
      ]
    },
    {
      "cell_type": "code",
      "execution_count": null,
      "metadata": {
        "id": "hJZJfGbqGZee"
      },
      "outputs": [],
      "source": [
        "df_all['fokus_riset'].iloc[3921] = 'Kesehatan-Obat'\n",
        "df_all['fokus_riset'].iloc[3926] = 'Sosial Humaniora, Seni Budaya, Pendidikan'"
      ]
    },
    {
      "cell_type": "markdown",
      "metadata": {
        "id": "rUZZFqetJELt"
      },
      "source": [
        "# Mesin Pencari"
      ]
    },
    {
      "cell_type": "code",
      "execution_count": null,
      "metadata": {
        "colab": {
          "base_uri": "https://localhost:8080/"
        },
        "id": "mSJWSLCZI5pi",
        "outputId": "3da2f13f-ee43-4b4e-90be-a260e6ae02b1"
      },
      "outputs": [],
      "source": [
        "df_all.info()"
      ]
    },
    {
      "cell_type": "code",
      "execution_count": null,
      "metadata": {
        "colab": {
          "base_uri": "https://localhost:8080/",
          "height": 35
        },
        "id": "eOHUGjj2DzBE",
        "outputId": "a18a6a51-f37d-498a-ffb1-c08c9ee05c70"
      },
      "outputs": [],
      "source": [
        "df_all['title'].iloc[5]"
      ]
    },
    {
      "cell_type": "code",
      "execution_count": null,
      "metadata": {
        "id": "VIkCWb0naIvE"
      },
      "outputs": [],
      "source": [
        "# Inisialisasi TF-IDF Vectorizer\n",
        "tfidf_vectorizer = TfidfVectorizer()"
      ]
    },
    {
      "cell_type": "code",
      "execution_count": null,
      "metadata": {
        "colab": {
          "base_uri": "https://localhost:8080/"
        },
        "id": "7BtsTQrsQiBZ",
        "outputId": "464b526a-778c-4ec1-c102-f830d04b42ce"
      },
      "outputs": [],
      "source": [
        "# Contoh teks\n",
        "text1 = 'Tingkat METIL METSULFURON dalam COpedoda dhipa sp hahahaha'\n",
        "text2 = 'Tingkat METIL METSULFURON dalam TOKSISITAS MASKULINITAS COPEPODA Daphnia sp.'\n",
        "\n",
        "# Inisialisasi TF-IDF Vectorizer\n",
        "tfidf_vectorizer = TfidfVectorizer()\n",
        "\n",
        "# Transformasi teks menjadi vektor TF-IDF\n",
        "tfidf_matrix = tfidf_vectorizer.fit_transform([text1, text2])\n",
        "\n",
        "# Hitung similaritas kosinus antara kedua teks\n",
        "cosine_similarities = cosine_similarity(tfidf_matrix[0], tfidf_matrix[1])\n",
        "\n",
        "# Tampilkan hasil similaritas\n",
        "print(\"Similaritas antara teks 1 dan teks 2:\", cosine_similarities[0][0])"
      ]
    },
    {
      "cell_type": "code",
      "execution_count": null,
      "metadata": {},
      "outputs": [],
      "source": [
        "dicari = 'hutan kawasan lindung'\n",
        "dicari = dicari.lower()"
      ]
    },
    {
      "cell_type": "code",
      "execution_count": null,
      "metadata": {},
      "outputs": [],
      "source": [
        "def remove_stopwords(text):\n",
        "    factory = StopWordRemoverFactory()\n",
        "    stopwords = factory.get_stop_words()\n",
        "\n",
        "    result = []\n",
        "    for x in  text.split():\n",
        "        if x not in stopwords:\n",
        "            result.append(x)\n",
        "\n",
        "    hasil_stopword = \" \".join(result)\n",
        "\n",
        "    return hasil_stopword"
      ]
    },
    {
      "cell_type": "code",
      "execution_count": null,
      "metadata": {},
      "outputs": [],
      "source": [
        "def stem(text):\n",
        "    factory2 = StemmerFactory()\n",
        "    stemmer = factory2.create_stemmer()\n",
        "    return stemmer.stem(text)"
      ]
    },
    {
      "cell_type": "code",
      "execution_count": null,
      "metadata": {},
      "outputs": [],
      "source": [
        "dicari = stem(dicari)\n",
        "dicari"
      ]
    },
    {
      "cell_type": "code",
      "execution_count": null,
      "metadata": {
        "colab": {
          "base_uri": "https://localhost:8080/"
        },
        "id": "ozmRwmyXT6tj",
        "outputId": "de09df31-b0c3-47a2-ec58-c9e443748c55"
      },
      "outputs": [],
      "source": [
        "from tqdm import tqdm\n",
        "\n",
        "df_temu = []\n",
        "similaritas = []\n",
        "\n",
        "for i in tqdm(range(len(df_all['text_stemmed']))):\n",
        "  temp = df_all['text_stemmed'].iloc[i]\n",
        "\n",
        "  # Transformasi teks menjadi vektor TF-IDF\n",
        "  tfidf_matrix = tfidf_vectorizer.fit_transform([dicari, temp])\n",
        "\n",
        "  # Hitung similaritas kosinus antara kedua teks\n",
        "  cosine_similarities = cosine_similarity(tfidf_matrix[0], tfidf_matrix[1])\n",
        "\n",
        "  if cosine_similarities[0][0] > 0.1:\n",
        "    df_temu.append(df_all.iloc[i])\n",
        "    similaritas.append(cosine_similarities)\n",
        "\n",
        "df_temu = pd.DataFrame(df_temu)\n",
        "df_temu['similaritas'] = similaritas"
      ]
    },
    {
      "cell_type": "code",
      "execution_count": null,
      "metadata": {},
      "outputs": [],
      "source": [
        "len(df_temu)"
      ]
    },
    {
      "cell_type": "code",
      "execution_count": null,
      "metadata": {
        "colab": {
          "base_uri": "https://localhost:8080/",
          "height": 5774
        },
        "id": "dSWCRgxVVfni",
        "outputId": "c882e1bb-fc1a-462d-b0e1-d46846a30c21"
      },
      "outputs": [],
      "source": [
        "df_temu[['title', 'similaritas','abstract']].sort_values(by=['similaritas'], ascending=False).head(10)"
      ]
    },
    {
      "cell_type": "code",
      "execution_count": null,
      "metadata": {},
      "outputs": [],
      "source": [
        "tokenizer = RegexpTokenizer(r'\\w+')\n",
        "\n",
        "topik = []\n",
        "\n",
        "for index in range(len(df_temu)):\n",
        "  teks = df_temu['fulltext_stopword'].iloc[index]\n",
        "  data = tokenizer.tokenize(teks)\n",
        "\n",
        "  # Proses vektorisasi teks dengan TF-IDF\n",
        "  tfidf_vectorizer = TfidfVectorizer()\n",
        "  tfidf_matrix = tfidf_vectorizer.fit_transform(data)\n",
        "\n",
        "  # Terapkan LSA dengan TruncatedSVD\n",
        "  if len(data) <= 5:\n",
        "     num_topics = len(data) # Jumlah topik yang ingin diidentifikasi\n",
        "  else:\n",
        "    num_topics = 5  # Jumlah topik yang ingin diidentifikasi\n",
        "  lsa_model = TruncatedSVD(n_components=num_topics, random_state=42)\n",
        "  lsa_model.fit_transform(tfidf_matrix)\n",
        "\n",
        "  # Ambil kata-kata kunci untuk setiap topik\n",
        "  terms = tfidf_vectorizer.get_feature_names_out()\n",
        "  top_keywords = 1  # Jumlah kata kunci untuk setiap topik (HANYA BISA DIAMBIL 1)\n",
        "\n",
        "  kata_kunci = []\n",
        "\n",
        "  for i, topic in enumerate(lsa_model.components_):\n",
        "      top_keywords_idx = topic.argsort()[-top_keywords:][::-1]\n",
        "      keywords = [terms[key_idx] for key_idx in top_keywords_idx]\n",
        "      kata_kunci.append(keywords[0])\n",
        "\n",
        "  topik.append(kata_kunci)\n",
        "\n",
        "df_temu['topik'] = topik"
      ]
    },
    {
      "cell_type": "code",
      "execution_count": null,
      "metadata": {},
      "outputs": [],
      "source": [
        "df_temu[['title', 'similaritas','abstract','keywords','topik']].sort_values(by=['similaritas'], ascending=False)"
      ]
    },
    {
      "cell_type": "markdown",
      "metadata": {},
      "source": [
        "# Test SCRIPT STKI"
      ]
    },
    {
      "cell_type": "code",
      "execution_count": 22,
      "metadata": {},
      "outputs": [],
      "source": [
        "import pandas as pd\n",
        "import numpy as np\n",
        "from sklearn.feature_extraction.text import TfidfVectorizer\n",
        "from sklearn.metrics.pairwise import cosine_similarity\n",
        "from sklearn.decomposition import TruncatedSVD\n",
        "from Sastrawi.StopWordRemover.StopWordRemoverFactory import StopWordRemoverFactory\n",
        "from Sastrawi.Stemmer.StemmerFactory import StemmerFactory\n",
        "from nltk.tokenize import RegexpTokenizer\n",
        "from tqdm import tqdm\n",
        "\n",
        "def search(teks, pilihan: int = 0):\n",
        "  df = pd.read_excel(r'D:\\TEST Codingan\\Sistem-Temu-Kembali-Informasi\\Riset Jupiter Notebook\\Data\\df_final.xlsx')\n",
        "  df = df.drop(columns='Unnamed: 0')\n",
        "\n",
        "  teks = stem(teks)\n",
        "\n",
        "  df_temu = []\n",
        "  similaritas = []\n",
        "\n",
        "  # Inisialisasi TF-IDF Vectorizer\n",
        "  tfidf_vectorizer = TfidfVectorizer()\n",
        "\n",
        "  for i in tqdm(range(len(df['text_stemmed']))):\n",
        "    temp = df['text_stemmed'].iloc[i]\n",
        "\n",
        "    # Transformasi teks menjadi vektor TF-IDF\n",
        "    tfidf_matrix = tfidf_vectorizer.fit_transform([teks, temp])\n",
        "\n",
        "    # Hitung similaritas kosinus antara kedua teks\n",
        "    cosine_similarities = cosine_similarity(tfidf_matrix[0], tfidf_matrix[1])\n",
        "\n",
        "    if cosine_similarities[0][0] > 0.1:\n",
        "      df_temu.append(df.iloc[i])\n",
        "      similaritas.append(cosine_similarities[0, 0])\n",
        "\n",
        "  df_temu = pd.DataFrame(df_temu)\n",
        "  df_temu['similaritas'] = similaritas\n",
        "  return tentukan_topik(df_temu.sort_values(by=['similaritas'], ascending=False), pilihan)\n",
        "\n",
        "def remove_stopwords(text):\n",
        "  factory = StopWordRemoverFactory()\n",
        "  stopwords = factory.get_stop_words()\n",
        "\n",
        "  result = []\n",
        "  for x in  text.split():\n",
        "      if x not in stopwords:\n",
        "          result.append(x)\n",
        "\n",
        "  hasil_stopword = \" \".join(result)\n",
        "\n",
        "  return hasil_stopword\n",
        "\n",
        "def stem(text):\n",
        "  factory2 = StemmerFactory()\n",
        "  stemmer = factory2.create_stemmer()\n",
        "  return stemmer.stem(text)\n",
        "\n",
        "def hapus_nan(dataset):\n",
        "  dataset.fillna(\"\", inplace=True) \n",
        "  return dataset\n",
        "\n",
        "def tentukan_topik(dataset, pilihan:int = 0):\n",
        "  tokenizer = RegexpTokenizer(r'\\w+')\n",
        "  topik = []\n",
        "\n",
        "  for index in range(len(dataset)):\n",
        "    # Ambil dataset\n",
        "    teks = dataset['fulltext_stopword'].iloc[index]\n",
        "    data = tokenizer.tokenize(teks)\n",
        "\n",
        "    # Proses vektorisasi teks dengan TF-IDF\n",
        "    tfidf_vectorizer = TfidfVectorizer()\n",
        "    tfidf_matrix = tfidf_vectorizer.fit_transform(data)\n",
        "    jumlah_feature = tfidf_matrix.shape\n",
        "\n",
        "    # Terapkan LSA dengan TruncatedSVD\n",
        "    if jumlah_feature[1] < 5:\n",
        "      num_topics = jumlah_feature[1] # Jumlah topik yang ingin diidentifikasi\n",
        "    else:\n",
        "      num_topics = 5 # Jumlah topik yang ingin diidentifikasi\n",
        "    lsa_model = TruncatedSVD(n_components=num_topics, random_state=42)\n",
        "    lsa_model.fit_transform(tfidf_matrix)\n",
        "\n",
        "    # Ambil kata-kata kunci untuk setiap topik\n",
        "    terms = tfidf_vectorizer.get_feature_names_out()\n",
        "    top_keywords = 1  # Jumlah kata kunci untuk setiap topik (HANYA BISA DIAMBIL 1)\n",
        "\n",
        "    kata_kunci = []\n",
        "\n",
        "    for i, topic in enumerate(lsa_model.components_):\n",
        "        top_keywords_idx = topic.argsort()[-top_keywords:][::-1]\n",
        "        keywords = [terms[key_idx] for key_idx in top_keywords_idx]\n",
        "        kata_kunci.append(keywords[0])\n",
        "\n",
        "    topik.append(kata_kunci)\n",
        "  dataset['topik'] = topik\n",
        "  dataset = dataset.drop(columns=[\n",
        "     'text_stemmed',\n",
        "     'fulltext_stopword', \n",
        "     'fulltext', \n",
        "     'language_accuracy', \n",
        "     'language', \n",
        "     'text_raw',\n",
        "     'abstract', \n",
        "    #  'date',\n",
        "    #  'keywords',\n",
        "    #  'similaritas',\n",
        "    #  'new_abstract',\n",
        "    #  'publisher',\n",
        "    #  'publication',\n",
        "    #  'divisions'\n",
        "    ])\n",
        "  \n",
        "  dataset = hapus_nan(dataset) #hapus nilai nan\n",
        "  if pilihan == 0:\n",
        "    return convert_dataframe_to_list(dataset)\n",
        "  elif pilihan == 1:\n",
        "    return dataset\n",
        "  elif pilihan == 2:\n",
        "    return convert_dataframe_to_dict(dataset)\n",
        "\n",
        "def convert_dataframe_to_list(dataset):\n",
        "  dataset = dataset.T\n",
        "  hasil_pencarian = []\n",
        "  for i in dataset.columns.values.tolist():\n",
        "    hasil_pencarian.append(dataset[i].to_list())\n",
        "  return hasil_pencarian\n",
        "\n",
        "def convert_dataframe_to_dict(dataset):\n",
        "  dataset = dataset.T\n",
        "  hasil_pencarian = dataset.to_dict()\n",
        "  return hasil_pencarian"
      ]
    },
    {
      "cell_type": "code",
      "execution_count": 23,
      "metadata": {},
      "outputs": [
        {
          "name": "stderr",
          "output_type": "stream",
          "text": [
            "100%|██████████| 15867/15867 [01:03<00:00, 250.45it/s]\n"
          ]
        }
      ],
      "source": [
        "df = search('Penerapan dan Pendampingan Peningkatkan Kesehatan Sanitasi', 1)"
      ]
    },
    {
      "cell_type": "code",
      "execution_count": 24,
      "metadata": {},
      "outputs": [
        {
          "data": {
            "text/html": [
              "<div>\n",
              "<style scoped>\n",
              "    .dataframe tbody tr th:only-of-type {\n",
              "        vertical-align: middle;\n",
              "    }\n",
              "\n",
              "    .dataframe tbody tr th {\n",
              "        vertical-align: top;\n",
              "    }\n",
              "\n",
              "    .dataframe thead th {\n",
              "        text-align: right;\n",
              "    }\n",
              "</style>\n",
              "<table border=\"1\" class=\"dataframe\">\n",
              "  <thead>\n",
              "    <tr style=\"text-align: right;\">\n",
              "      <th></th>\n",
              "      <th>uri</th>\n",
              "      <th>subjects</th>\n",
              "      <th>title</th>\n",
              "      <th>similaritas</th>\n",
              "    </tr>\n",
              "  </thead>\n",
              "  <tbody>\n",
              "    <tr>\n",
              "      <th>3321</th>\n",
              "      <td>http://repository.lppm.unila.ac.id/id/eprint/2...</td>\n",
              "      <td>['QA']</td>\n",
              "      <td>Penerapan dan Pendampingan Peningkatkan Keseha...</td>\n",
              "      <td>0.293768</td>\n",
              "    </tr>\n",
              "    <tr>\n",
              "      <th>3320</th>\n",
              "      <td>http://repository.lppm.unila.ac.id/id/eprint/2...</td>\n",
              "      <td>['QA']</td>\n",
              "      <td>Penerapan dan Pendampingan Peningkatkan Keseha...</td>\n",
              "      <td>0.293768</td>\n",
              "    </tr>\n",
              "    <tr>\n",
              "      <th>15522</th>\n",
              "      <td>http://repository.lppm.unila.ac.id/id/eprint/4...</td>\n",
              "      <td>['L1']</td>\n",
              "      <td>Peningkatan Perilaku Hidup Bersih dan Sehat (P...</td>\n",
              "      <td>0.257637</td>\n",
              "    </tr>\n",
              "    <tr>\n",
              "      <th>15521</th>\n",
              "      <td>http://repository.lppm.unila.ac.id/id/eprint/4...</td>\n",
              "      <td>['Q1']</td>\n",
              "      <td>PENINGKATAN PERILAKU HIDUP BERSIH DAN SEHAT (P...</td>\n",
              "      <td>0.250818</td>\n",
              "    </tr>\n",
              "    <tr>\n",
              "      <th>3558</th>\n",
              "      <td>http://repository.lppm.unila.ac.id/id/eprint/2...</td>\n",
              "      <td>['R1']</td>\n",
              "      <td>Penerapan eKIE (Komunikasi, Informasi, dan Edu...</td>\n",
              "      <td>0.227289</td>\n",
              "    </tr>\n",
              "    <tr>\n",
              "      <th>...</th>\n",
              "      <td>...</td>\n",
              "      <td>...</td>\n",
              "      <td>...</td>\n",
              "      <td>...</td>\n",
              "    </tr>\n",
              "    <tr>\n",
              "      <th>4832</th>\n",
              "      <td>http://repository.lppm.unila.ac.id/id/eprint/2...</td>\n",
              "      <td>['R1']</td>\n",
              "      <td>Pemberdayaan Siswa sebagai Peer Educator dalam...</td>\n",
              "      <td>0.101384</td>\n",
              "    </tr>\n",
              "    <tr>\n",
              "      <th>13158</th>\n",
              "      <td>http://repository.lppm.unila.ac.id/id/eprint/4...</td>\n",
              "      <td>['SF']</td>\n",
              "      <td>PENYULUHAN MANAJEMEN KESEHATAN, PERKANDANGAN, ...</td>\n",
              "      <td>0.101292</td>\n",
              "    </tr>\n",
              "    <tr>\n",
              "      <th>3703</th>\n",
              "      <td>http://repository.lppm.unila.ac.id/id/eprint/2...</td>\n",
              "      <td>['SD']</td>\n",
              "      <td>PENTINGNYA PEMANTAUAN KESEHATAN HUTAN DALAM PE...</td>\n",
              "      <td>0.100870</td>\n",
              "    </tr>\n",
              "    <tr>\n",
              "      <th>4410</th>\n",
              "      <td>http://repository.lppm.unila.ac.id/id/eprint/2...</td>\n",
              "      <td>['SD']</td>\n",
              "      <td>Kajian Kesehatan Hutan Dalam Pengelolaan Hutan...</td>\n",
              "      <td>0.100720</td>\n",
              "    </tr>\n",
              "    <tr>\n",
              "      <th>4409</th>\n",
              "      <td>http://repository.lppm.unila.ac.id/id/eprint/2...</td>\n",
              "      <td>['SD']</td>\n",
              "      <td>Kajian Kesehatan Hutan Dalam Pengelolaan Hutan...</td>\n",
              "      <td>0.100532</td>\n",
              "    </tr>\n",
              "  </tbody>\n",
              "</table>\n",
              "<p>191 rows × 4 columns</p>\n",
              "</div>"
            ],
            "text/plain": [
              "                                                     uri subjects  \\\n",
              "3321   http://repository.lppm.unila.ac.id/id/eprint/2...   ['QA']   \n",
              "3320   http://repository.lppm.unila.ac.id/id/eprint/2...   ['QA']   \n",
              "15522  http://repository.lppm.unila.ac.id/id/eprint/4...   ['L1']   \n",
              "15521  http://repository.lppm.unila.ac.id/id/eprint/4...   ['Q1']   \n",
              "3558   http://repository.lppm.unila.ac.id/id/eprint/2...   ['R1']   \n",
              "...                                                  ...      ...   \n",
              "4832   http://repository.lppm.unila.ac.id/id/eprint/2...   ['R1']   \n",
              "13158  http://repository.lppm.unila.ac.id/id/eprint/4...   ['SF']   \n",
              "3703   http://repository.lppm.unila.ac.id/id/eprint/2...   ['SD']   \n",
              "4410   http://repository.lppm.unila.ac.id/id/eprint/2...   ['SD']   \n",
              "4409   http://repository.lppm.unila.ac.id/id/eprint/2...   ['SD']   \n",
              "\n",
              "                                                   title  similaritas  \n",
              "3321   Penerapan dan Pendampingan Peningkatkan Keseha...     0.293768  \n",
              "3320   Penerapan dan Pendampingan Peningkatkan Keseha...     0.293768  \n",
              "15522  Peningkatan Perilaku Hidup Bersih dan Sehat (P...     0.257637  \n",
              "15521  PENINGKATAN PERILAKU HIDUP BERSIH DAN SEHAT (P...     0.250818  \n",
              "3558   Penerapan eKIE (Komunikasi, Informasi, dan Edu...     0.227289  \n",
              "...                                                  ...          ...  \n",
              "4832   Pemberdayaan Siswa sebagai Peer Educator dalam...     0.101384  \n",
              "13158  PENYULUHAN MANAJEMEN KESEHATAN, PERKANDANGAN, ...     0.101292  \n",
              "3703   PENTINGNYA PEMANTAUAN KESEHATAN HUTAN DALAM PE...     0.100870  \n",
              "4410   Kajian Kesehatan Hutan Dalam Pengelolaan Hutan...     0.100720  \n",
              "4409   Kajian Kesehatan Hutan Dalam Pengelolaan Hutan...     0.100532  \n",
              "\n",
              "[191 rows x 4 columns]"
            ]
          },
          "execution_count": 24,
          "metadata": {},
          "output_type": "execute_result"
        }
      ],
      "source": [
        "df[['uri','subjects','title','similaritas']]"
      ]
    },
    {
      "cell_type": "code",
      "execution_count": 25,
      "metadata": {},
      "outputs": [
        {
          "data": {
            "text/plain": [
              "3321     http://repository.lppm.unila.ac.id/id/eprint/2...\n",
              "3320     http://repository.lppm.unila.ac.id/id/eprint/2...\n",
              "15522    http://repository.lppm.unila.ac.id/id/eprint/4...\n",
              "15521    http://repository.lppm.unila.ac.id/id/eprint/4...\n",
              "3558     http://repository.lppm.unila.ac.id/id/eprint/2...\n",
              "                               ...                        \n",
              "4832     http://repository.lppm.unila.ac.id/id/eprint/2...\n",
              "13158    http://repository.lppm.unila.ac.id/id/eprint/4...\n",
              "3703     http://repository.lppm.unila.ac.id/id/eprint/2...\n",
              "4410     http://repository.lppm.unila.ac.id/id/eprint/2...\n",
              "4409     http://repository.lppm.unila.ac.id/id/eprint/2...\n",
              "Name: uri, Length: 191, dtype: object"
            ]
          },
          "execution_count": 25,
          "metadata": {},
          "output_type": "execute_result"
        }
      ],
      "source": [
        "df['uri']"
      ]
    },
    {
      "cell_type": "code",
      "execution_count": 18,
      "metadata": {},
      "outputs": [
        {
          "data": {
            "text/plain": [
              "\"['G1', 'GA', 'GB', 'GE', 'Q1']\""
            ]
          },
          "execution_count": 18,
          "metadata": {},
          "output_type": "execute_result"
        }
      ],
      "source": [
        "df['subjects'].iloc[1]"
      ]
    }
  ],
  "metadata": {
    "colab": {
      "collapsed_sections": [
        "tzjNW0YGKJ9T"
      ],
      "provenance": []
    },
    "kernelspec": {
      "display_name": "Python 3",
      "name": "python3"
    },
    "language_info": {
      "codemirror_mode": {
        "name": "ipython",
        "version": 3
      },
      "file_extension": ".py",
      "mimetype": "text/x-python",
      "name": "python",
      "nbconvert_exporter": "python",
      "pygments_lexer": "ipython3",
      "version": "3.12.1"
    }
  },
  "nbformat": 4,
  "nbformat_minor": 0
}
