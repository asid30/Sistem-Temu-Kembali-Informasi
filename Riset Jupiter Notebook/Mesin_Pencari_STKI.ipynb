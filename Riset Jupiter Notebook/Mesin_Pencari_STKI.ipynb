{
  "cells": [
    {
      "cell_type": "code",
      "execution_count": null,
      "metadata": {
        "id": "NpsHL0RECzmH"
      },
      "outputs": [],
      "source": [
        "import pandas as pd\n",
        "import numpy as np\n",
        "from sklearn.feature_extraction.text import TfidfVectorizer\n",
        "from sklearn.metrics.pairwise import cosine_similarity\n",
        "from sklearn.decomposition import TruncatedSVD"
      ]
    },
    {
      "cell_type": "code",
      "execution_count": null,
      "metadata": {
        "id": "9wACa7AtHSoz"
      },
      "outputs": [],
      "source": [
        "df_all = pd.read_excel('/content/drive/MyDrive/Dokumen/Tugas-Tugas/Kuliah/RISET MBKM-STKI/Pemberian Label Manual/DF_ALL.xlsx')"
      ]
    },
    {
      "cell_type": "code",
      "execution_count": null,
      "metadata": {
        "id": "hv5qSWJvFFwm"
      },
      "outputs": [],
      "source": [
        "df_all.to_excel('/content/drive/MyDrive/Dokumen/Tugas-Tugas/Kuliah/RISET MBKM-STKI/Pemberian Label Manual/DF_ALL.xlsx', index = False)"
      ]
    },
    {
      "cell_type": "markdown",
      "metadata": {
        "id": "tzjNW0YGKJ9T"
      },
      "source": [
        "#EDA"
      ]
    },
    {
      "cell_type": "code",
      "execution_count": null,
      "metadata": {
        "id": "n1R6dMYIZcib"
      },
      "outputs": [],
      "source": [
        "df_all = pd.read_csv('/content/drive/MyDrive/Dokumen/Tugas-Tugas/Kuliah/RISET MBKM-STKI/Preprocessing/df_final.csv')"
      ]
    },
    {
      "cell_type": "code",
      "execution_count": null,
      "metadata": {
        "id": "Gi5HPSGfD33H"
      },
      "outputs": [],
      "source": [
        "df = []"
      ]
    },
    {
      "cell_type": "code",
      "execution_count": null,
      "metadata": {
        "id": "z4SVikSdDgVS"
      },
      "outputs": [],
      "source": [
        "df.append(pd.read_excel('/content/drive/MyDrive/Dokumen/Tugas-Tugas/Kuliah/RISET MBKM-STKI/Pemberian Label Manual/FP.xlsx'))"
      ]
    },
    {
      "cell_type": "code",
      "execution_count": null,
      "metadata": {
        "id": "hG8l6aqZEEmX"
      },
      "outputs": [],
      "source": [
        "df[0] = df[0].drop(columns = ['No'])"
      ]
    },
    {
      "cell_type": "code",
      "execution_count": null,
      "metadata": {
        "id": "LEbDcnxDEbaG"
      },
      "outputs": [],
      "source": [
        "df.append(pd.read_excel('/content/drive/MyDrive/Dokumen/Tugas-Tugas/Kuliah/RISET MBKM-STKI/Pemberian Label Manual/FK.xlsx'))"
      ]
    },
    {
      "cell_type": "code",
      "execution_count": null,
      "metadata": {
        "id": "vBoCV4JTEldW"
      },
      "outputs": [],
      "source": [
        "df.append(pd.read_excel('/content/drive/MyDrive/Dokumen/Tugas-Tugas/Kuliah/RISET MBKM-STKI/Pemberian Label Manual/FMIPA.xlsx'))"
      ]
    },
    {
      "cell_type": "code",
      "execution_count": null,
      "metadata": {
        "id": "m6DqYa10Eper"
      },
      "outputs": [],
      "source": [
        "df.append(pd.read_excel('/content/drive/MyDrive/Dokumen/Tugas-Tugas/Kuliah/RISET MBKM-STKI/Pemberian Label Manual/FT.xlsx'))"
      ]
    },
    {
      "cell_type": "code",
      "execution_count": null,
      "metadata": {
        "id": "w2OUFH00Esab"
      },
      "outputs": [],
      "source": [
        "df_all = pd.concat(df)"
      ]
    },
    {
      "cell_type": "code",
      "execution_count": null,
      "metadata": {
        "id": "JDpgOXslE1AG"
      },
      "outputs": [],
      "source": [
        "df_all = df_all.drop(columns = ['Unnamed: 0'])"
      ]
    },
    {
      "cell_type": "code",
      "execution_count": null,
      "metadata": {
        "colab": {
          "base_uri": "https://localhost:8080/"
        },
        "id": "vzzr3t74FX6E",
        "outputId": "9147e135-622d-44c1-f67b-3679ecaeb48b"
      },
      "outputs": [
        {
          "name": "stdout",
          "output_type": "stream",
          "text": [
            "<class 'pandas.core.frame.DataFrame'>\n",
            "RangeIndex: 7123 entries, 0 to 7122\n",
            "Data columns (total 15 columns):\n",
            " #   Column                        Non-Null Count  Dtype \n",
            "---  ------                        --------------  ----- \n",
            " 0   divisions                     7123 non-null   object\n",
            " 1   title                         7123 non-null   object\n",
            " 2   abstract                      5935 non-null   object\n",
            " 3   subjects                      7123 non-null   object\n",
            " 4   publication                   3334 non-null   object\n",
            " 5   publisher                     5380 non-null   object\n",
            " 6   date                          6051 non-null   object\n",
            " 7   keywords                      7123 non-null   object\n",
            " 8   uri                           7123 non-null   object\n",
            " 9   fulltext_raw                  7123 non-null   object\n",
            " 10  lang                          7123 non-null   object\n",
            " 11  fulltext                      7123 non-null   object\n",
            " 12  fulltext_clean_stem           7123 non-null   object\n",
            " 13  fulltext_clean_stem_stopword  7123 non-null   object\n",
            " 14  fokus_riset                   5644 non-null   object\n",
            "dtypes: object(15)\n",
            "memory usage: 834.9+ KB\n"
          ]
        }
      ],
      "source": [
        "df_all.info()"
      ]
    },
    {
      "cell_type": "code",
      "execution_count": null,
      "metadata": {
        "colab": {
          "base_uri": "https://localhost:8080/",
          "height": 3773
        },
        "id": "T1H5fw2J9HqS",
        "outputId": "9a5cbd8b-a04f-410a-cfaf-e4384edfd46c"
      },
      "outputs": [
        {
          "data": {
            "text/html": [
              "\n",
              "  <div id=\"df-6a357200-2e55-4341-9df7-6b21611ae035\" class=\"colab-df-container\">\n",
              "    <div>\n",
              "<style scoped>\n",
              "    .dataframe tbody tr th:only-of-type {\n",
              "        vertical-align: middle;\n",
              "    }\n",
              "\n",
              "    .dataframe tbody tr th {\n",
              "        vertical-align: top;\n",
              "    }\n",
              "\n",
              "    .dataframe thead th {\n",
              "        text-align: right;\n",
              "    }\n",
              "</style>\n",
              "<table border=\"1\" class=\"dataframe\">\n",
              "  <thead>\n",
              "    <tr style=\"text-align: right;\">\n",
              "      <th></th>\n",
              "      <th>title</th>\n",
              "      <th>abstract</th>\n",
              "    </tr>\n",
              "  </thead>\n",
              "  <tbody>\n",
              "    <tr>\n",
              "      <th>0</th>\n",
              "      <td>TOKSISITAS METIL METSULFURON HUBUNGANNYA DENGA...</td>\n",
              "      <td>Metil metsulfuron merupakan senyawa aktif yang...</td>\n",
              "    </tr>\n",
              "    <tr>\n",
              "      <th>1</th>\n",
              "      <td>Media Pembelajaran Digital sebagai Sumber Bela...</td>\n",
              "      <td>Kegiatan pembelajaran siswa SMA dan SMK mutlak...</td>\n",
              "    </tr>\n",
              "    <tr>\n",
              "      <th>2</th>\n",
              "      <td>Strategi Keberlanjutan Jasa Air Bersih Berbasi...</td>\n",
              "      <td>Persoalan penyediaan jasa air bersih merupakan...</td>\n",
              "    </tr>\n",
              "    <tr>\n",
              "      <th>3</th>\n",
              "      <td>Metode Sexing Spermatozoa XY dan Aplikasi Inse...</td>\n",
              "      <td>NaN</td>\n",
              "    </tr>\n",
              "    <tr>\n",
              "      <th>4</th>\n",
              "      <td>PENGARUH BAHAN PELLETING TERHADAP PERKECAMBAHA...</td>\n",
              "      <td>Bawang merah merupakan komoditas pertanian pen...</td>\n",
              "    </tr>\n",
              "    <tr>\n",
              "      <th>...</th>\n",
              "      <td>...</td>\n",
              "      <td>...</td>\n",
              "    </tr>\n",
              "    <tr>\n",
              "      <th>995</th>\n",
              "      <td>Analisis Kelayakan Finansial Usaha Burung Puyu...</td>\n",
              "      <td>Unggas penghasil telur terbesar kedua setelah ...</td>\n",
              "    </tr>\n",
              "    <tr>\n",
              "      <th>996</th>\n",
              "      <td>Buku Teknologi Pengelolaan Agen Biologis Hara</td>\n",
              "      <td>NaN</td>\n",
              "    </tr>\n",
              "    <tr>\n",
              "      <th>997</th>\n",
              "      <td>Teknologi Pengelolaan Agen Biologis Hara (TPABH)</td>\n",
              "      <td>NaN</td>\n",
              "    </tr>\n",
              "    <tr>\n",
              "      <th>998</th>\n",
              "      <td>PENGARUH KECERDASAN EMOSIONAL DAN KEMAMPUAN AW...</td>\n",
              "      <td>Pembelajaran online menyisakan banyak permasal...</td>\n",
              "    </tr>\n",
              "    <tr>\n",
              "      <th>999</th>\n",
              "      <td>Pelatihan Pembelajaran Matematika Interaktif d...</td>\n",
              "      <td>Kebijakan Pembelajaran Tatap Muka (PTM) terbat...</td>\n",
              "    </tr>\n",
              "  </tbody>\n",
              "</table>\n",
              "<p>1000 rows × 2 columns</p>\n",
              "</div>\n",
              "    <div class=\"colab-df-buttons\">\n",
              "\n",
              "  <div class=\"colab-df-container\">\n",
              "    <button class=\"colab-df-convert\" onclick=\"convertToInteractive('df-6a357200-2e55-4341-9df7-6b21611ae035')\"\n",
              "            title=\"Convert this dataframe to an interactive table.\"\n",
              "            style=\"display:none;\">\n",
              "\n",
              "  <svg xmlns=\"http://www.w3.org/2000/svg\" height=\"24px\" viewBox=\"0 -960 960 960\">\n",
              "    <path d=\"M120-120v-720h720v720H120Zm60-500h600v-160H180v160Zm220 220h160v-160H400v160Zm0 220h160v-160H400v160ZM180-400h160v-160H180v160Zm440 0h160v-160H620v160ZM180-180h160v-160H180v160Zm440 0h160v-160H620v160Z\"/>\n",
              "  </svg>\n",
              "    </button>\n",
              "\n",
              "  <style>\n",
              "    .colab-df-container {\n",
              "      display:flex;\n",
              "      gap: 12px;\n",
              "    }\n",
              "\n",
              "    .colab-df-convert {\n",
              "      background-color: #E8F0FE;\n",
              "      border: none;\n",
              "      border-radius: 50%;\n",
              "      cursor: pointer;\n",
              "      display: none;\n",
              "      fill: #1967D2;\n",
              "      height: 32px;\n",
              "      padding: 0 0 0 0;\n",
              "      width: 32px;\n",
              "    }\n",
              "\n",
              "    .colab-df-convert:hover {\n",
              "      background-color: #E2EBFA;\n",
              "      box-shadow: 0px 1px 2px rgba(60, 64, 67, 0.3), 0px 1px 3px 1px rgba(60, 64, 67, 0.15);\n",
              "      fill: #174EA6;\n",
              "    }\n",
              "\n",
              "    .colab-df-buttons div {\n",
              "      margin-bottom: 4px;\n",
              "    }\n",
              "\n",
              "    [theme=dark] .colab-df-convert {\n",
              "      background-color: #3B4455;\n",
              "      fill: #D2E3FC;\n",
              "    }\n",
              "\n",
              "    [theme=dark] .colab-df-convert:hover {\n",
              "      background-color: #434B5C;\n",
              "      box-shadow: 0px 1px 3px 1px rgba(0, 0, 0, 0.15);\n",
              "      filter: drop-shadow(0px 1px 2px rgba(0, 0, 0, 0.3));\n",
              "      fill: #FFFFFF;\n",
              "    }\n",
              "  </style>\n",
              "\n",
              "    <script>\n",
              "      const buttonEl =\n",
              "        document.querySelector('#df-6a357200-2e55-4341-9df7-6b21611ae035 button.colab-df-convert');\n",
              "      buttonEl.style.display =\n",
              "        google.colab.kernel.accessAllowed ? 'block' : 'none';\n",
              "\n",
              "      async function convertToInteractive(key) {\n",
              "        const element = document.querySelector('#df-6a357200-2e55-4341-9df7-6b21611ae035');\n",
              "        const dataTable =\n",
              "          await google.colab.kernel.invokeFunction('convertToInteractive',\n",
              "                                                    [key], {});\n",
              "        if (!dataTable) return;\n",
              "\n",
              "        const docLinkHtml = 'Like what you see? Visit the ' +\n",
              "          '<a target=\"_blank\" href=https://colab.research.google.com/notebooks/data_table.ipynb>data table notebook</a>'\n",
              "          + ' to learn more about interactive tables.';\n",
              "        element.innerHTML = '';\n",
              "        dataTable['output_type'] = 'display_data';\n",
              "        await google.colab.output.renderOutput(dataTable, element);\n",
              "        const docLink = document.createElement('div');\n",
              "        docLink.innerHTML = docLinkHtml;\n",
              "        element.appendChild(docLink);\n",
              "      }\n",
              "    </script>\n",
              "  </div>\n",
              "\n",
              "\n",
              "<div id=\"df-51674dc0-dc5e-440d-8bb6-17e6a0704c0e\">\n",
              "  <button class=\"colab-df-quickchart\" onclick=\"quickchart('df-51674dc0-dc5e-440d-8bb6-17e6a0704c0e')\"\n",
              "            title=\"Suggest charts\"\n",
              "            style=\"display:none;\">\n",
              "\n",
              "<svg xmlns=\"http://www.w3.org/2000/svg\" height=\"24px\"viewBox=\"0 0 24 24\"\n",
              "     width=\"24px\">\n",
              "    <g>\n",
              "        <path d=\"M19 3H5c-1.1 0-2 .9-2 2v14c0 1.1.9 2 2 2h14c1.1 0 2-.9 2-2V5c0-1.1-.9-2-2-2zM9 17H7v-7h2v7zm4 0h-2V7h2v10zm4 0h-2v-4h2v4z\"/>\n",
              "    </g>\n",
              "</svg>\n",
              "  </button>\n",
              "\n",
              "<style>\n",
              "  .colab-df-quickchart {\n",
              "      --bg-color: #E8F0FE;\n",
              "      --fill-color: #1967D2;\n",
              "      --hover-bg-color: #E2EBFA;\n",
              "      --hover-fill-color: #174EA6;\n",
              "      --disabled-fill-color: #AAA;\n",
              "      --disabled-bg-color: #DDD;\n",
              "  }\n",
              "\n",
              "  [theme=dark] .colab-df-quickchart {\n",
              "      --bg-color: #3B4455;\n",
              "      --fill-color: #D2E3FC;\n",
              "      --hover-bg-color: #434B5C;\n",
              "      --hover-fill-color: #FFFFFF;\n",
              "      --disabled-bg-color: #3B4455;\n",
              "      --disabled-fill-color: #666;\n",
              "  }\n",
              "\n",
              "  .colab-df-quickchart {\n",
              "    background-color: var(--bg-color);\n",
              "    border: none;\n",
              "    border-radius: 50%;\n",
              "    cursor: pointer;\n",
              "    display: none;\n",
              "    fill: var(--fill-color);\n",
              "    height: 32px;\n",
              "    padding: 0;\n",
              "    width: 32px;\n",
              "  }\n",
              "\n",
              "  .colab-df-quickchart:hover {\n",
              "    background-color: var(--hover-bg-color);\n",
              "    box-shadow: 0 1px 2px rgba(60, 64, 67, 0.3), 0 1px 3px 1px rgba(60, 64, 67, 0.15);\n",
              "    fill: var(--button-hover-fill-color);\n",
              "  }\n",
              "\n",
              "  .colab-df-quickchart-complete:disabled,\n",
              "  .colab-df-quickchart-complete:disabled:hover {\n",
              "    background-color: var(--disabled-bg-color);\n",
              "    fill: var(--disabled-fill-color);\n",
              "    box-shadow: none;\n",
              "  }\n",
              "\n",
              "  .colab-df-spinner {\n",
              "    border: 2px solid var(--fill-color);\n",
              "    border-color: transparent;\n",
              "    border-bottom-color: var(--fill-color);\n",
              "    animation:\n",
              "      spin 1s steps(1) infinite;\n",
              "  }\n",
              "\n",
              "  @keyframes spin {\n",
              "    0% {\n",
              "      border-color: transparent;\n",
              "      border-bottom-color: var(--fill-color);\n",
              "      border-left-color: var(--fill-color);\n",
              "    }\n",
              "    20% {\n",
              "      border-color: transparent;\n",
              "      border-left-color: var(--fill-color);\n",
              "      border-top-color: var(--fill-color);\n",
              "    }\n",
              "    30% {\n",
              "      border-color: transparent;\n",
              "      border-left-color: var(--fill-color);\n",
              "      border-top-color: var(--fill-color);\n",
              "      border-right-color: var(--fill-color);\n",
              "    }\n",
              "    40% {\n",
              "      border-color: transparent;\n",
              "      border-right-color: var(--fill-color);\n",
              "      border-top-color: var(--fill-color);\n",
              "    }\n",
              "    60% {\n",
              "      border-color: transparent;\n",
              "      border-right-color: var(--fill-color);\n",
              "    }\n",
              "    80% {\n",
              "      border-color: transparent;\n",
              "      border-right-color: var(--fill-color);\n",
              "      border-bottom-color: var(--fill-color);\n",
              "    }\n",
              "    90% {\n",
              "      border-color: transparent;\n",
              "      border-bottom-color: var(--fill-color);\n",
              "    }\n",
              "  }\n",
              "</style>\n",
              "\n",
              "  <script>\n",
              "    async function quickchart(key) {\n",
              "      const quickchartButtonEl =\n",
              "        document.querySelector('#' + key + ' button');\n",
              "      quickchartButtonEl.disabled = true;  // To prevent multiple clicks.\n",
              "      quickchartButtonEl.classList.add('colab-df-spinner');\n",
              "      try {\n",
              "        const charts = await google.colab.kernel.invokeFunction(\n",
              "            'suggestCharts', [key], {});\n",
              "      } catch (error) {\n",
              "        console.error('Error during call to suggestCharts:', error);\n",
              "      }\n",
              "      quickchartButtonEl.classList.remove('colab-df-spinner');\n",
              "      quickchartButtonEl.classList.add('colab-df-quickchart-complete');\n",
              "    }\n",
              "    (() => {\n",
              "      let quickchartButtonEl =\n",
              "        document.querySelector('#df-51674dc0-dc5e-440d-8bb6-17e6a0704c0e button');\n",
              "      quickchartButtonEl.style.display =\n",
              "        google.colab.kernel.accessAllowed ? 'block' : 'none';\n",
              "    })();\n",
              "  </script>\n",
              "</div>\n",
              "    </div>\n",
              "  </div>\n"
            ],
            "text/plain": [
              "                                                 title  \\\n",
              "0    TOKSISITAS METIL METSULFURON HUBUNGANNYA DENGA...   \n",
              "1    Media Pembelajaran Digital sebagai Sumber Bela...   \n",
              "2    Strategi Keberlanjutan Jasa Air Bersih Berbasi...   \n",
              "3    Metode Sexing Spermatozoa XY dan Aplikasi Inse...   \n",
              "4    PENGARUH BAHAN PELLETING TERHADAP PERKECAMBAHA...   \n",
              "..                                                 ...   \n",
              "995  Analisis Kelayakan Finansial Usaha Burung Puyu...   \n",
              "996      Buku Teknologi Pengelolaan Agen Biologis Hara   \n",
              "997   Teknologi Pengelolaan Agen Biologis Hara (TPABH)   \n",
              "998  PENGARUH KECERDASAN EMOSIONAL DAN KEMAMPUAN AW...   \n",
              "999  Pelatihan Pembelajaran Matematika Interaktif d...   \n",
              "\n",
              "                                              abstract  \n",
              "0    Metil metsulfuron merupakan senyawa aktif yang...  \n",
              "1    Kegiatan pembelajaran siswa SMA dan SMK mutlak...  \n",
              "2    Persoalan penyediaan jasa air bersih merupakan...  \n",
              "3                                                  NaN  \n",
              "4    Bawang merah merupakan komoditas pertanian pen...  \n",
              "..                                                 ...  \n",
              "995  Unggas penghasil telur terbesar kedua setelah ...  \n",
              "996                                                NaN  \n",
              "997                                                NaN  \n",
              "998  Pembelajaran online menyisakan banyak permasal...  \n",
              "999  Kebijakan Pembelajaran Tatap Muka (PTM) terbat...  \n",
              "\n",
              "[1000 rows x 2 columns]"
            ]
          },
          "execution_count": 20,
          "metadata": {},
          "output_type": "execute_result"
        }
      ],
      "source": [
        "pd.DataFrame(df_all[['title', 'abstract']])"
      ]
    },
    {
      "cell_type": "code",
      "execution_count": null,
      "metadata": {
        "id": "X8-_6fEsGE5q"
      },
      "outputs": [],
      "source": [
        "topik_riset = {'phew'}\n",
        "\n",
        "for i in range(len(df_all['fokus_riset'])):\n",
        "  topik_riset.add(df_all['fokus_riset'].iloc[i])"
      ]
    },
    {
      "cell_type": "code",
      "execution_count": null,
      "metadata": {
        "colab": {
          "base_uri": "https://localhost:8080/"
        },
        "id": "wTmy8gXuGF9g",
        "outputId": "fb262f7d-801b-4c40-ad06-440413585279"
      },
      "outputs": [
        {
          "data": {
            "text/plain": [
              "{'Integrasi Fokus Riset Energi-Energi Baru dan Terbarukan',\n",
              " 'Kebencanaan',\n",
              " 'Kemaritiman',\n",
              " 'Kesehatan-Obat',\n",
              " 'Material Maju',\n",
              " 'Pangan-Pertanian',\n",
              " 'Pertahanan dan Keamanan',\n",
              " 'Sosial Humaniora, Seni Budaya, Pendidikan',\n",
              " 'Teknologi Informasi dan Komunikasi',\n",
              " 'Transportasi',\n",
              " nan,\n",
              " 'phew'}"
            ]
          },
          "execution_count": 4,
          "metadata": {},
          "output_type": "execute_result"
        }
      ],
      "source": [
        "topik_riset"
      ]
    },
    {
      "cell_type": "code",
      "execution_count": null,
      "metadata": {
        "id": "KwIGH6T5FmDV"
      },
      "outputs": [],
      "source": [
        "temporal = []\n",
        "\n",
        "for i in range(len(df_all['fokus_riset'])):\n",
        "  if df_all['fokus_riset'].iloc[i] == 'Kesehatan-Obat':\n",
        "    temporal.append(df_all.iloc[i])"
      ]
    },
    {
      "cell_type": "code",
      "execution_count": null,
      "metadata": {
        "id": "L40bsksBF1Hk"
      },
      "outputs": [],
      "source": [
        "temporal = []\n",
        "\n",
        "for i in range(len(df_all['fokus_riset'])):\n",
        "  if pd.isnull(df_all['fokus_riset'].iloc[i]):\n",
        "    temporal.append(df_all.iloc[i])"
      ]
    },
    {
      "cell_type": "code",
      "execution_count": null,
      "metadata": {
        "colab": {
          "base_uri": "https://localhost:8080/"
        },
        "id": "mHJQRts8F2m1",
        "outputId": "01c93ed2-c2f5-47c7-f6af-2ddb206d6598"
      },
      "outputs": [
        {
          "data": {
            "text/plain": [
              "1240"
            ]
          },
          "execution_count": 36,
          "metadata": {},
          "output_type": "execute_result"
        }
      ],
      "source": [
        "len(temporal)"
      ]
    },
    {
      "cell_type": "code",
      "execution_count": null,
      "metadata": {
        "colab": {
          "base_uri": "https://localhost:8080/",
          "height": 199
        },
        "id": "tnx2-s6wF5io",
        "outputId": "de5adeb9-d236-4457-afa2-ff860672c899"
      },
      "outputs": [
        {
          "ename": "NameError",
          "evalue": "ignored",
          "output_type": "error",
          "traceback": [
            "\u001b[0;31m---------------------------------------------------------------------------\u001b[0m",
            "\u001b[0;31mNameError\u001b[0m                                 Traceback (most recent call last)",
            "\u001b[0;32m<ipython-input-8-2bfd2c376ba9>\u001b[0m in \u001b[0;36m<cell line: 1>\u001b[0;34m()\u001b[0m\n\u001b[0;32m----> 1\u001b[0;31m \u001b[0mdf_temp\u001b[0m \u001b[0;34m=\u001b[0m \u001b[0mpd\u001b[0m\u001b[0;34m.\u001b[0m\u001b[0mDataFrame\u001b[0m\u001b[0;34m(\u001b[0m\u001b[0mtemporal\u001b[0m\u001b[0;34m)\u001b[0m\u001b[0;34m\u001b[0m\u001b[0;34m\u001b[0m\u001b[0m\n\u001b[0m\u001b[1;32m      2\u001b[0m \u001b[0mdf_temp\u001b[0m\u001b[0;34m[\u001b[0m\u001b[0;34m[\u001b[0m\u001b[0;34m'title'\u001b[0m\u001b[0;34m,\u001b[0m \u001b[0;34m'fokus_riset'\u001b[0m\u001b[0;34m]\u001b[0m\u001b[0;34m]\u001b[0m\u001b[0;34m\u001b[0m\u001b[0;34m\u001b[0m\u001b[0m\n",
            "\u001b[0;31mNameError\u001b[0m: name 'temporal' is not defined"
          ]
        }
      ],
      "source": [
        "df_temp = pd.DataFrame(temporal)\n",
        "df_temp[['title', 'fokus_riset']]"
      ]
    },
    {
      "cell_type": "code",
      "execution_count": null,
      "metadata": {
        "id": "hJZJfGbqGZee"
      },
      "outputs": [],
      "source": [
        "df_all['fokus_riset'].iloc[3921] = 'Kesehatan-Obat'\n",
        "df_all['fokus_riset'].iloc[3926] = 'Sosial Humaniora, Seni Budaya, Pendidikan'"
      ]
    },
    {
      "cell_type": "markdown",
      "metadata": {
        "id": "rUZZFqetJELt"
      },
      "source": [
        "#Mesin Pencari"
      ]
    },
    {
      "cell_type": "code",
      "execution_count": null,
      "metadata": {
        "colab": {
          "base_uri": "https://localhost:8080/"
        },
        "id": "mSJWSLCZI5pi",
        "outputId": "3da2f13f-ee43-4b4e-90be-a260e6ae02b1"
      },
      "outputs": [
        {
          "name": "stdout",
          "output_type": "stream",
          "text": [
            "<class 'pandas.core.frame.DataFrame'>\n",
            "RangeIndex: 15867 entries, 0 to 15866\n",
            "Data columns (total 18 columns):\n",
            " #   Column             Non-Null Count  Dtype \n",
            "---  ------             --------------  ----- \n",
            " 0   Unnamed: 0         15867 non-null  int64 \n",
            " 1   divisions          14133 non-null  object\n",
            " 2   title              15867 non-null  object\n",
            " 3   abstract           12296 non-null  object\n",
            " 4   subjects           15864 non-null  object\n",
            " 5   publication        6874 non-null   object\n",
            " 6   publisher          12214 non-null  object\n",
            " 7   creators           15851 non-null  object\n",
            " 8   date               12316 non-null  object\n",
            " 9   keywords           3418 non-null   object\n",
            " 10  uri                15867 non-null  object\n",
            " 11  new_abstract       12296 non-null  object\n",
            " 12  text_raw           15867 non-null  object\n",
            " 13  language           15867 non-null  object\n",
            " 14  language_accuracy  15867 non-null  object\n",
            " 15  fulltext           15867 non-null  object\n",
            " 16  fulltext_stopword  15867 non-null  object\n",
            " 17  text_stemmed       15867 non-null  object\n",
            "dtypes: int64(1), object(17)\n",
            "memory usage: 2.2+ MB\n"
          ]
        }
      ],
      "source": [
        "df_all.info()"
      ]
    },
    {
      "cell_type": "code",
      "execution_count": null,
      "metadata": {
        "colab": {
          "base_uri": "https://localhost:8080/",
          "height": 35
        },
        "id": "eOHUGjj2DzBE",
        "outputId": "a18a6a51-f37d-498a-ffb1-c08c9ee05c70"
      },
      "outputs": [
        {
          "data": {
            "application/vnd.google.colaboratory.intrinsic+json": {
              "type": "string"
            },
            "text/plain": [
              "'PENGENALAN BUNGA KRISAN POTONG DI DESA SUNGAI \\r\\nLANGKA KAB. PESAWARAN SEBAGAI KOMODITAS BARU DI \\r\\nDESA AGROWISATA'"
            ]
          },
          "execution_count": 7,
          "metadata": {},
          "output_type": "execute_result"
        }
      ],
      "source": [
        "df_all['title'].iloc[5]"
      ]
    },
    {
      "cell_type": "code",
      "execution_count": null,
      "metadata": {
        "id": "VIkCWb0naIvE"
      },
      "outputs": [],
      "source": [
        "# Inisialisasi TF-IDF Vectorizer\n",
        "tfidf_vectorizer = TfidfVectorizer()"
      ]
    },
    {
      "cell_type": "code",
      "execution_count": null,
      "metadata": {
        "colab": {
          "base_uri": "https://localhost:8080/"
        },
        "id": "7BtsTQrsQiBZ",
        "outputId": "464b526a-778c-4ec1-c102-f830d04b42ce"
      },
      "outputs": [
        {
          "name": "stdout",
          "output_type": "stream",
          "text": [
            "Similaritas antara teks 1 dan teks 2: 0.42113589132819584\n"
          ]
        }
      ],
      "source": [
        "# Contoh teks\n",
        "text1 = 'Tingkat METIL METSULFURON dalam COpedoda dhipa sp hahahaha'\n",
        "text2 = 'Tingkat METIL METSULFURON dalam TOKSISITAS MASKULINITAS COPEPODA Daphnia sp.'\n",
        "\n",
        "# Inisialisasi TF-IDF Vectorizer\n",
        "tfidf_vectorizer = TfidfVectorizer()\n",
        "\n",
        "# Transformasi teks menjadi vektor TF-IDF\n",
        "tfidf_matrix = tfidf_vectorizer.fit_transform([text1, text2])\n",
        "\n",
        "# Hitung similaritas kosinus antara kedua teks\n",
        "cosine_similarities = cosine_similarity(tfidf_matrix[0], tfidf_matrix[1])\n",
        "\n",
        "# Tampilkan hasil similaritas\n",
        "print(\"Similaritas antara teks 1 dan teks 2:\", cosine_similarities[0][0])"
      ]
    },
    {
      "cell_type": "code",
      "execution_count": null,
      "metadata": {
        "colab": {
          "base_uri": "https://localhost:8080/"
        },
        "id": "ozmRwmyXT6tj",
        "outputId": "de09df31-b0c3-47a2-ec58-c9e443748c55"
      },
      "outputs": [
        {
          "name": "stderr",
          "output_type": "stream",
          "text": [
            "100%|██████████| 15867/15867 [00:52<00:00, 304.96it/s]\n"
          ]
        }
      ],
      "source": [
        "from tqdm import tqdm\n",
        "dicari = 'intro kembang KRISAN POTONG DI DESA pesawaran'\n",
        "\n",
        "df_temu = []\n",
        "similaritas = []\n",
        "\n",
        "for i in tqdm(range(len(df_all['text_stemmed']))):\n",
        "  temp = df_all['text_stemmed'].iloc[i]\n",
        "\n",
        "  # Transformasi teks menjadi vektor TF-IDF\n",
        "  tfidf_matrix = tfidf_vectorizer.fit_transform([dicari, temp])\n",
        "\n",
        "  # Hitung similaritas kosinus antara kedua teks\n",
        "  cosine_similarities = cosine_similarity(tfidf_matrix[0], tfidf_matrix[1])\n",
        "\n",
        "  if cosine_similarities[0][0] > 0.1:\n",
        "    df_temu.append(df_all.iloc[i])\n",
        "    similaritas.append(cosine_similarities)\n",
        "\n",
        "df_temu = pd.DataFrame(df_temu)\n",
        "df_temu['similaritas'] = similaritas"
      ]
    },
    {
      "cell_type": "code",
      "execution_count": null,
      "metadata": {
        "colab": {
          "base_uri": "https://localhost:8080/"
        },
        "id": "00_YXlb1afYA",
        "outputId": "2ccae9ca-0534-44b4-ac3e-880a6ec1bca6"
      },
      "outputs": [
        {
          "data": {
            "text/plain": [
              "161"
            ]
          },
          "execution_count": 11,
          "metadata": {},
          "output_type": "execute_result"
        }
      ],
      "source": [
        "len(df_temu)"
      ]
    },
    {
      "cell_type": "code",
      "execution_count": null,
      "metadata": {
        "colab": {
          "base_uri": "https://localhost:8080/",
          "height": 5774
        },
        "id": "dSWCRgxVVfni",
        "outputId": "c882e1bb-fc1a-462d-b0e1-d46846a30c21"
      },
      "outputs": [
        {
          "data": {
            "text/html": [
              "\n",
              "  <div id=\"df-9651a97d-3df4-441a-8ed1-7264b40f24c0\" class=\"colab-df-container\">\n",
              "    <div>\n",
              "<style scoped>\n",
              "    .dataframe tbody tr th:only-of-type {\n",
              "        vertical-align: middle;\n",
              "    }\n",
              "\n",
              "    .dataframe tbody tr th {\n",
              "        vertical-align: top;\n",
              "    }\n",
              "\n",
              "    .dataframe thead th {\n",
              "        text-align: right;\n",
              "    }\n",
              "</style>\n",
              "<table border=\"1\" class=\"dataframe\">\n",
              "  <thead>\n",
              "    <tr style=\"text-align: right;\">\n",
              "      <th></th>\n",
              "      <th>title</th>\n",
              "      <th>similaritas</th>\n",
              "      <th>abstract</th>\n",
              "    </tr>\n",
              "  </thead>\n",
              "  <tbody>\n",
              "    <tr>\n",
              "      <th>5</th>\n",
              "      <td>PENGENALAN BUNGA KRISAN POTONG DI DESA SUNGAI ...</td>\n",
              "      <td>[[0.2658103011115569]]</td>\n",
              "      <td>Tujuan kegiatan ini adalah mengenalkan \\r\\nkom...</td>\n",
              "    </tr>\n",
              "    <tr>\n",
              "      <th>66</th>\n",
              "      <td>Pengembangan Pertanian Frontier di Desa Sidoka...</td>\n",
              "      <td>[[0.13516493227989143]]</td>\n",
              "      <td>Gisting merupakan representasi wilayah pertani...</td>\n",
              "    </tr>\n",
              "    <tr>\n",
              "      <th>128</th>\n",
              "      <td>Pembangunan Dan Pemberdayaan Masyarakat Desa M...</td>\n",
              "      <td>[[0.1321300690217955]]</td>\n",
              "      <td>NaN</td>\n",
              "    </tr>\n",
              "    <tr>\n",
              "      <th>129</th>\n",
              "      <td>Pendirian Badan Usaha Milik Desa (Bumdes) Untu...</td>\n",
              "      <td>[[0.1144676006896003]]</td>\n",
              "      <td>NaN</td>\n",
              "    </tr>\n",
              "    <tr>\n",
              "      <th>133</th>\n",
              "      <td>Manfaat program Smart Village di Desa Hanura K...</td>\n",
              "      <td>[[0.1445381971187406]]</td>\n",
              "      <td>Saat ini pembangunan wilayah pedesaan mengalam...</td>\n",
              "    </tr>\n",
              "    <tr>\n",
              "      <th>...</th>\n",
              "      <td>...</td>\n",
              "      <td>...</td>\n",
              "      <td>...</td>\n",
              "    </tr>\n",
              "    <tr>\n",
              "      <th>15700</th>\n",
              "      <td>Program Gerbang Desa Saburai dan Pengentasan D...</td>\n",
              "      <td>[[0.1321300690217955]]</td>\n",
              "      <td>NaN</td>\n",
              "    </tr>\n",
              "    <tr>\n",
              "      <th>15702</th>\n",
              "      <td>Transformasi Alokasi Dana Desa terhadap Ketimp...</td>\n",
              "      <td>[[0.1321300690217955]]</td>\n",
              "      <td>NaN</td>\n",
              "    </tr>\n",
              "    <tr>\n",
              "      <th>15703</th>\n",
              "      <td>Transformasi Alokasi Dana Desa terhadap Ketimp...</td>\n",
              "      <td>[[0.1321300690217955]]</td>\n",
              "      <td>NaN</td>\n",
              "    </tr>\n",
              "    <tr>\n",
              "      <th>15731</th>\n",
              "      <td>Pelatihan Studi Kelayakan Bisnis Bagi Aparatur...</td>\n",
              "      <td>[[0.12171786177703044]]</td>\n",
              "      <td>ABSTRAK\\r\\nSetiap desa pasti memiliki potensi ...</td>\n",
              "    </tr>\n",
              "    <tr>\n",
              "      <th>15798</th>\n",
              "      <td>Kebijakan Pengembangan Kawasan Wisata Bahari B...</td>\n",
              "      <td>[[0.10011031656225383]]</td>\n",
              "      <td>Penilaian Rekan Sejawat</td>\n",
              "    </tr>\n",
              "  </tbody>\n",
              "</table>\n",
              "<p>161 rows × 3 columns</p>\n",
              "</div>\n",
              "    <div class=\"colab-df-buttons\">\n",
              "\n",
              "  <div class=\"colab-df-container\">\n",
              "    <button class=\"colab-df-convert\" onclick=\"convertToInteractive('df-9651a97d-3df4-441a-8ed1-7264b40f24c0')\"\n",
              "            title=\"Convert this dataframe to an interactive table.\"\n",
              "            style=\"display:none;\">\n",
              "\n",
              "  <svg xmlns=\"http://www.w3.org/2000/svg\" height=\"24px\" viewBox=\"0 -960 960 960\">\n",
              "    <path d=\"M120-120v-720h720v720H120Zm60-500h600v-160H180v160Zm220 220h160v-160H400v160Zm0 220h160v-160H400v160ZM180-400h160v-160H180v160Zm440 0h160v-160H620v160ZM180-180h160v-160H180v160Zm440 0h160v-160H620v160Z\"/>\n",
              "  </svg>\n",
              "    </button>\n",
              "\n",
              "  <style>\n",
              "    .colab-df-container {\n",
              "      display:flex;\n",
              "      gap: 12px;\n",
              "    }\n",
              "\n",
              "    .colab-df-convert {\n",
              "      background-color: #E8F0FE;\n",
              "      border: none;\n",
              "      border-radius: 50%;\n",
              "      cursor: pointer;\n",
              "      display: none;\n",
              "      fill: #1967D2;\n",
              "      height: 32px;\n",
              "      padding: 0 0 0 0;\n",
              "      width: 32px;\n",
              "    }\n",
              "\n",
              "    .colab-df-convert:hover {\n",
              "      background-color: #E2EBFA;\n",
              "      box-shadow: 0px 1px 2px rgba(60, 64, 67, 0.3), 0px 1px 3px 1px rgba(60, 64, 67, 0.15);\n",
              "      fill: #174EA6;\n",
              "    }\n",
              "\n",
              "    .colab-df-buttons div {\n",
              "      margin-bottom: 4px;\n",
              "    }\n",
              "\n",
              "    [theme=dark] .colab-df-convert {\n",
              "      background-color: #3B4455;\n",
              "      fill: #D2E3FC;\n",
              "    }\n",
              "\n",
              "    [theme=dark] .colab-df-convert:hover {\n",
              "      background-color: #434B5C;\n",
              "      box-shadow: 0px 1px 3px 1px rgba(0, 0, 0, 0.15);\n",
              "      filter: drop-shadow(0px 1px 2px rgba(0, 0, 0, 0.3));\n",
              "      fill: #FFFFFF;\n",
              "    }\n",
              "  </style>\n",
              "\n",
              "    <script>\n",
              "      const buttonEl =\n",
              "        document.querySelector('#df-9651a97d-3df4-441a-8ed1-7264b40f24c0 button.colab-df-convert');\n",
              "      buttonEl.style.display =\n",
              "        google.colab.kernel.accessAllowed ? 'block' : 'none';\n",
              "\n",
              "      async function convertToInteractive(key) {\n",
              "        const element = document.querySelector('#df-9651a97d-3df4-441a-8ed1-7264b40f24c0');\n",
              "        const dataTable =\n",
              "          await google.colab.kernel.invokeFunction('convertToInteractive',\n",
              "                                                    [key], {});\n",
              "        if (!dataTable) return;\n",
              "\n",
              "        const docLinkHtml = 'Like what you see? Visit the ' +\n",
              "          '<a target=\"_blank\" href=https://colab.research.google.com/notebooks/data_table.ipynb>data table notebook</a>'\n",
              "          + ' to learn more about interactive tables.';\n",
              "        element.innerHTML = '';\n",
              "        dataTable['output_type'] = 'display_data';\n",
              "        await google.colab.output.renderOutput(dataTable, element);\n",
              "        const docLink = document.createElement('div');\n",
              "        docLink.innerHTML = docLinkHtml;\n",
              "        element.appendChild(docLink);\n",
              "      }\n",
              "    </script>\n",
              "  </div>\n",
              "\n",
              "\n",
              "<div id=\"df-abf64e39-ecfe-461d-95df-d8cedcd13d11\">\n",
              "  <button class=\"colab-df-quickchart\" onclick=\"quickchart('df-abf64e39-ecfe-461d-95df-d8cedcd13d11')\"\n",
              "            title=\"Suggest charts\"\n",
              "            style=\"display:none;\">\n",
              "\n",
              "<svg xmlns=\"http://www.w3.org/2000/svg\" height=\"24px\"viewBox=\"0 0 24 24\"\n",
              "     width=\"24px\">\n",
              "    <g>\n",
              "        <path d=\"M19 3H5c-1.1 0-2 .9-2 2v14c0 1.1.9 2 2 2h14c1.1 0 2-.9 2-2V5c0-1.1-.9-2-2-2zM9 17H7v-7h2v7zm4 0h-2V7h2v10zm4 0h-2v-4h2v4z\"/>\n",
              "    </g>\n",
              "</svg>\n",
              "  </button>\n",
              "\n",
              "<style>\n",
              "  .colab-df-quickchart {\n",
              "      --bg-color: #E8F0FE;\n",
              "      --fill-color: #1967D2;\n",
              "      --hover-bg-color: #E2EBFA;\n",
              "      --hover-fill-color: #174EA6;\n",
              "      --disabled-fill-color: #AAA;\n",
              "      --disabled-bg-color: #DDD;\n",
              "  }\n",
              "\n",
              "  [theme=dark] .colab-df-quickchart {\n",
              "      --bg-color: #3B4455;\n",
              "      --fill-color: #D2E3FC;\n",
              "      --hover-bg-color: #434B5C;\n",
              "      --hover-fill-color: #FFFFFF;\n",
              "      --disabled-bg-color: #3B4455;\n",
              "      --disabled-fill-color: #666;\n",
              "  }\n",
              "\n",
              "  .colab-df-quickchart {\n",
              "    background-color: var(--bg-color);\n",
              "    border: none;\n",
              "    border-radius: 50%;\n",
              "    cursor: pointer;\n",
              "    display: none;\n",
              "    fill: var(--fill-color);\n",
              "    height: 32px;\n",
              "    padding: 0;\n",
              "    width: 32px;\n",
              "  }\n",
              "\n",
              "  .colab-df-quickchart:hover {\n",
              "    background-color: var(--hover-bg-color);\n",
              "    box-shadow: 0 1px 2px rgba(60, 64, 67, 0.3), 0 1px 3px 1px rgba(60, 64, 67, 0.15);\n",
              "    fill: var(--button-hover-fill-color);\n",
              "  }\n",
              "\n",
              "  .colab-df-quickchart-complete:disabled,\n",
              "  .colab-df-quickchart-complete:disabled:hover {\n",
              "    background-color: var(--disabled-bg-color);\n",
              "    fill: var(--disabled-fill-color);\n",
              "    box-shadow: none;\n",
              "  }\n",
              "\n",
              "  .colab-df-spinner {\n",
              "    border: 2px solid var(--fill-color);\n",
              "    border-color: transparent;\n",
              "    border-bottom-color: var(--fill-color);\n",
              "    animation:\n",
              "      spin 1s steps(1) infinite;\n",
              "  }\n",
              "\n",
              "  @keyframes spin {\n",
              "    0% {\n",
              "      border-color: transparent;\n",
              "      border-bottom-color: var(--fill-color);\n",
              "      border-left-color: var(--fill-color);\n",
              "    }\n",
              "    20% {\n",
              "      border-color: transparent;\n",
              "      border-left-color: var(--fill-color);\n",
              "      border-top-color: var(--fill-color);\n",
              "    }\n",
              "    30% {\n",
              "      border-color: transparent;\n",
              "      border-left-color: var(--fill-color);\n",
              "      border-top-color: var(--fill-color);\n",
              "      border-right-color: var(--fill-color);\n",
              "    }\n",
              "    40% {\n",
              "      border-color: transparent;\n",
              "      border-right-color: var(--fill-color);\n",
              "      border-top-color: var(--fill-color);\n",
              "    }\n",
              "    60% {\n",
              "      border-color: transparent;\n",
              "      border-right-color: var(--fill-color);\n",
              "    }\n",
              "    80% {\n",
              "      border-color: transparent;\n",
              "      border-right-color: var(--fill-color);\n",
              "      border-bottom-color: var(--fill-color);\n",
              "    }\n",
              "    90% {\n",
              "      border-color: transparent;\n",
              "      border-bottom-color: var(--fill-color);\n",
              "    }\n",
              "  }\n",
              "</style>\n",
              "\n",
              "  <script>\n",
              "    async function quickchart(key) {\n",
              "      const quickchartButtonEl =\n",
              "        document.querySelector('#' + key + ' button');\n",
              "      quickchartButtonEl.disabled = true;  // To prevent multiple clicks.\n",
              "      quickchartButtonEl.classList.add('colab-df-spinner');\n",
              "      try {\n",
              "        const charts = await google.colab.kernel.invokeFunction(\n",
              "            'suggestCharts', [key], {});\n",
              "      } catch (error) {\n",
              "        console.error('Error during call to suggestCharts:', error);\n",
              "      }\n",
              "      quickchartButtonEl.classList.remove('colab-df-spinner');\n",
              "      quickchartButtonEl.classList.add('colab-df-quickchart-complete');\n",
              "    }\n",
              "    (() => {\n",
              "      let quickchartButtonEl =\n",
              "        document.querySelector('#df-abf64e39-ecfe-461d-95df-d8cedcd13d11 button');\n",
              "      quickchartButtonEl.style.display =\n",
              "        google.colab.kernel.accessAllowed ? 'block' : 'none';\n",
              "    })();\n",
              "  </script>\n",
              "</div>\n",
              "    </div>\n",
              "  </div>\n"
            ],
            "text/plain": [
              "                                                   title  \\\n",
              "5      PENGENALAN BUNGA KRISAN POTONG DI DESA SUNGAI ...   \n",
              "66     Pengembangan Pertanian Frontier di Desa Sidoka...   \n",
              "128    Pembangunan Dan Pemberdayaan Masyarakat Desa M...   \n",
              "129    Pendirian Badan Usaha Milik Desa (Bumdes) Untu...   \n",
              "133    Manfaat program Smart Village di Desa Hanura K...   \n",
              "...                                                  ...   \n",
              "15700  Program Gerbang Desa Saburai dan Pengentasan D...   \n",
              "15702  Transformasi Alokasi Dana Desa terhadap Ketimp...   \n",
              "15703  Transformasi Alokasi Dana Desa terhadap Ketimp...   \n",
              "15731  Pelatihan Studi Kelayakan Bisnis Bagi Aparatur...   \n",
              "15798  Kebijakan Pengembangan Kawasan Wisata Bahari B...   \n",
              "\n",
              "                   similaritas  \\\n",
              "5       [[0.2658103011115569]]   \n",
              "66     [[0.13516493227989143]]   \n",
              "128     [[0.1321300690217955]]   \n",
              "129     [[0.1144676006896003]]   \n",
              "133     [[0.1445381971187406]]   \n",
              "...                        ...   \n",
              "15700   [[0.1321300690217955]]   \n",
              "15702   [[0.1321300690217955]]   \n",
              "15703   [[0.1321300690217955]]   \n",
              "15731  [[0.12171786177703044]]   \n",
              "15798  [[0.10011031656225383]]   \n",
              "\n",
              "                                                abstract  \n",
              "5      Tujuan kegiatan ini adalah mengenalkan \\r\\nkom...  \n",
              "66     Gisting merupakan representasi wilayah pertani...  \n",
              "128                                                  NaN  \n",
              "129                                                  NaN  \n",
              "133    Saat ini pembangunan wilayah pedesaan mengalam...  \n",
              "...                                                  ...  \n",
              "15700                                                NaN  \n",
              "15702                                                NaN  \n",
              "15703                                                NaN  \n",
              "15731  ABSTRAK\\r\\nSetiap desa pasti memiliki potensi ...  \n",
              "15798                            Penilaian Rekan Sejawat  \n",
              "\n",
              "[161 rows x 3 columns]"
            ]
          },
          "execution_count": 12,
          "metadata": {},
          "output_type": "execute_result"
        }
      ],
      "source": [
        "df_temu[['title', 'similaritas','abstract']]"
      ]
    },
    {
      "cell_type": "code",
      "execution_count": null,
      "metadata": {
        "id": "IMPRowEquL1o"
      },
      "outputs": [],
      "source": [
        "title = df_temu['title']"
      ]
    }
  ],
  "metadata": {
    "colab": {
      "collapsed_sections": [
        "tzjNW0YGKJ9T"
      ],
      "provenance": []
    },
    "kernelspec": {
      "display_name": "Python 3",
      "name": "python3"
    },
    "language_info": {
      "name": "python",
      "version": "3.12.1"
    }
  },
  "nbformat": 4,
  "nbformat_minor": 0
}
